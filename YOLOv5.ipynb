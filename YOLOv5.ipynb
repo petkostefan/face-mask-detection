{
  "nbformat": 4,
  "nbformat_minor": 0,
  "metadata": {
    "colab": {
      "provenance": []
    },
    "kernelspec": {
      "name": "python3",
      "display_name": "Python 3"
    },
    "language_info": {
      "name": "python"
    },
    "accelerator": "GPU",
    "gpuClass": "standard"
  },
  "cells": [
    {
      "cell_type": "code",
      "source": [
        "%cd drive/MyDrive/YOLO/"
      ],
      "metadata": {
        "colab": {
          "base_uri": "https://localhost:8080/"
        },
        "id": "tiJ8j3BgwUhD",
        "outputId": "c3657ce8-8674-4db9-cff7-15a83898fe78"
      },
      "execution_count": null,
      "outputs": [
        {
          "output_type": "stream",
          "name": "stdout",
          "text": [
            "/content/drive/MyDrive/YOLO\n"
          ]
        }
      ]
    },
    {
      "cell_type": "code",
      "execution_count": null,
      "metadata": {
        "colab": {
          "base_uri": "https://localhost:8080/"
        },
        "id": "S-Pz6q7DL9am",
        "outputId": "7fa7864a-e419-4a00-d45d-68544d7cc2f6"
      },
      "outputs": [
        {
          "output_type": "stream",
          "name": "stdout",
          "text": [
            "Cloning into 'yolov5'...\n",
            "remote: Enumerating objects: 12117, done.\u001b[K\n",
            "remote: Counting objects: 100% (70/70), done.\u001b[K\n",
            "remote: Compressing objects: 100% (46/46), done.\u001b[K\n",
            "remote: Total 12117 (delta 36), reused 49 (delta 24), pack-reused 12047\u001b[K\n",
            "Receiving objects: 100% (12117/12117), 12.53 MiB | 8.54 MiB/s, done.\n",
            "Resolving deltas: 100% (8327/8327), done.\n"
          ]
        }
      ],
      "source": [
        "!git clone https://github.com/ultralytics/yolov5.git"
      ]
    },
    {
      "cell_type": "code",
      "source": [
        "%cd yolov5"
      ],
      "metadata": {
        "colab": {
          "base_uri": "https://localhost:8080/"
        },
        "id": "xINBTXxQMkOX",
        "outputId": "292c5a2d-d5a8-44a5-a274-62facd6e4e75"
      },
      "execution_count": null,
      "outputs": [
        {
          "output_type": "stream",
          "name": "stdout",
          "text": [
            "/content/drive/MyDrive/YOLO/yolov5\n"
          ]
        }
      ]
    },
    {
      "cell_type": "code",
      "source": [
        "!pip install -qr requirements.txt"
      ],
      "metadata": {
        "id": "czL8RLmaMr07",
        "colab": {
          "base_uri": "https://localhost:8080/"
        },
        "outputId": "8a0c5dc1-06cc-4155-ca7d-396c766935eb"
      },
      "execution_count": null,
      "outputs": [
        {
          "output_type": "stream",
          "name": "stdout",
          "text": [
            "\u001b[?25l\r\u001b[K     |▏                               | 10 kB 22.6 MB/s eta 0:00:01\r\u001b[K     |▍                               | 20 kB 7.1 MB/s eta 0:00:01\r\u001b[K     |▋                               | 30 kB 10.1 MB/s eta 0:00:01\r\u001b[K     |▉                               | 40 kB 4.1 MB/s eta 0:00:01\r\u001b[K     |█                               | 51 kB 4.4 MB/s eta 0:00:01\r\u001b[K     |█▎                              | 61 kB 5.0 MB/s eta 0:00:01\r\u001b[K     |█▌                              | 71 kB 5.4 MB/s eta 0:00:01\r\u001b[K     |█▊                              | 81 kB 5.3 MB/s eta 0:00:01\r\u001b[K     |█▉                              | 92 kB 5.9 MB/s eta 0:00:01\r\u001b[K     |██                              | 102 kB 4.8 MB/s eta 0:00:01\r\u001b[K     |██▎                             | 112 kB 4.8 MB/s eta 0:00:01\r\u001b[K     |██▌                             | 122 kB 4.8 MB/s eta 0:00:01\r\u001b[K     |██▊                             | 133 kB 4.8 MB/s eta 0:00:01\r\u001b[K     |███                             | 143 kB 4.8 MB/s eta 0:00:01\r\u001b[K     |███▏                            | 153 kB 4.8 MB/s eta 0:00:01\r\u001b[K     |███▍                            | 163 kB 4.8 MB/s eta 0:00:01\r\u001b[K     |███▌                            | 174 kB 4.8 MB/s eta 0:00:01\r\u001b[K     |███▊                            | 184 kB 4.8 MB/s eta 0:00:01\r\u001b[K     |████                            | 194 kB 4.8 MB/s eta 0:00:01\r\u001b[K     |████▏                           | 204 kB 4.8 MB/s eta 0:00:01\r\u001b[K     |████▍                           | 215 kB 4.8 MB/s eta 0:00:01\r\u001b[K     |████▋                           | 225 kB 4.8 MB/s eta 0:00:01\r\u001b[K     |████▉                           | 235 kB 4.8 MB/s eta 0:00:01\r\u001b[K     |█████                           | 245 kB 4.8 MB/s eta 0:00:01\r\u001b[K     |█████▎                          | 256 kB 4.8 MB/s eta 0:00:01\r\u001b[K     |█████▍                          | 266 kB 4.8 MB/s eta 0:00:01\r\u001b[K     |█████▋                          | 276 kB 4.8 MB/s eta 0:00:01\r\u001b[K     |█████▉                          | 286 kB 4.8 MB/s eta 0:00:01\r\u001b[K     |██████                          | 296 kB 4.8 MB/s eta 0:00:01\r\u001b[K     |██████▎                         | 307 kB 4.8 MB/s eta 0:00:01\r\u001b[K     |██████▌                         | 317 kB 4.8 MB/s eta 0:00:01\r\u001b[K     |██████▊                         | 327 kB 4.8 MB/s eta 0:00:01\r\u001b[K     |███████                         | 337 kB 4.8 MB/s eta 0:00:01\r\u001b[K     |███████                         | 348 kB 4.8 MB/s eta 0:00:01\r\u001b[K     |███████▎                        | 358 kB 4.8 MB/s eta 0:00:01\r\u001b[K     |███████▌                        | 368 kB 4.8 MB/s eta 0:00:01\r\u001b[K     |███████▊                        | 378 kB 4.8 MB/s eta 0:00:01\r\u001b[K     |████████                        | 389 kB 4.8 MB/s eta 0:00:01\r\u001b[K     |████████▏                       | 399 kB 4.8 MB/s eta 0:00:01\r\u001b[K     |████████▍                       | 409 kB 4.8 MB/s eta 0:00:01\r\u001b[K     |████████▋                       | 419 kB 4.8 MB/s eta 0:00:01\r\u001b[K     |████████▉                       | 430 kB 4.8 MB/s eta 0:00:01\r\u001b[K     |█████████                       | 440 kB 4.8 MB/s eta 0:00:01\r\u001b[K     |█████████▏                      | 450 kB 4.8 MB/s eta 0:00:01\r\u001b[K     |█████████▍                      | 460 kB 4.8 MB/s eta 0:00:01\r\u001b[K     |█████████▋                      | 471 kB 4.8 MB/s eta 0:00:01\r\u001b[K     |█████████▉                      | 481 kB 4.8 MB/s eta 0:00:01\r\u001b[K     |██████████                      | 491 kB 4.8 MB/s eta 0:00:01\r\u001b[K     |██████████▎                     | 501 kB 4.8 MB/s eta 0:00:01\r\u001b[K     |██████████▌                     | 512 kB 4.8 MB/s eta 0:00:01\r\u001b[K     |██████████▋                     | 522 kB 4.8 MB/s eta 0:00:01\r\u001b[K     |██████████▉                     | 532 kB 4.8 MB/s eta 0:00:01\r\u001b[K     |███████████                     | 542 kB 4.8 MB/s eta 0:00:01\r\u001b[K     |███████████▎                    | 552 kB 4.8 MB/s eta 0:00:01\r\u001b[K     |███████████▌                    | 563 kB 4.8 MB/s eta 0:00:01\r\u001b[K     |███████████▊                    | 573 kB 4.8 MB/s eta 0:00:01\r\u001b[K     |████████████                    | 583 kB 4.8 MB/s eta 0:00:01\r\u001b[K     |████████████▏                   | 593 kB 4.8 MB/s eta 0:00:01\r\u001b[K     |████████████▍                   | 604 kB 4.8 MB/s eta 0:00:01\r\u001b[K     |████████████▌                   | 614 kB 4.8 MB/s eta 0:00:01\r\u001b[K     |████████████▊                   | 624 kB 4.8 MB/s eta 0:00:01\r\u001b[K     |█████████████                   | 634 kB 4.8 MB/s eta 0:00:01\r\u001b[K     |█████████████▏                  | 645 kB 4.8 MB/s eta 0:00:01\r\u001b[K     |█████████████▍                  | 655 kB 4.8 MB/s eta 0:00:01\r\u001b[K     |█████████████▋                  | 665 kB 4.8 MB/s eta 0:00:01\r\u001b[K     |█████████████▉                  | 675 kB 4.8 MB/s eta 0:00:01\r\u001b[K     |██████████████                  | 686 kB 4.8 MB/s eta 0:00:01\r\u001b[K     |██████████████▏                 | 696 kB 4.8 MB/s eta 0:00:01\r\u001b[K     |██████████████▍                 | 706 kB 4.8 MB/s eta 0:00:01\r\u001b[K     |██████████████▋                 | 716 kB 4.8 MB/s eta 0:00:01\r\u001b[K     |██████████████▉                 | 727 kB 4.8 MB/s eta 0:00:01\r\u001b[K     |███████████████                 | 737 kB 4.8 MB/s eta 0:00:01\r\u001b[K     |███████████████▎                | 747 kB 4.8 MB/s eta 0:00:01\r\u001b[K     |███████████████▌                | 757 kB 4.8 MB/s eta 0:00:01\r\u001b[K     |███████████████▊                | 768 kB 4.8 MB/s eta 0:00:01\r\u001b[K     |████████████████                | 778 kB 4.8 MB/s eta 0:00:01\r\u001b[K     |████████████████                | 788 kB 4.8 MB/s eta 0:00:01\r\u001b[K     |████████████████▎               | 798 kB 4.8 MB/s eta 0:00:01\r\u001b[K     |████████████████▌               | 808 kB 4.8 MB/s eta 0:00:01\r\u001b[K     |████████████████▊               | 819 kB 4.8 MB/s eta 0:00:01\r\u001b[K     |█████████████████               | 829 kB 4.8 MB/s eta 0:00:01\r\u001b[K     |█████████████████▏              | 839 kB 4.8 MB/s eta 0:00:01\r\u001b[K     |█████████████████▍              | 849 kB 4.8 MB/s eta 0:00:01\r\u001b[K     |█████████████████▋              | 860 kB 4.8 MB/s eta 0:00:01\r\u001b[K     |█████████████████▊              | 870 kB 4.8 MB/s eta 0:00:01\r\u001b[K     |██████████████████              | 880 kB 4.8 MB/s eta 0:00:01\r\u001b[K     |██████████████████▏             | 890 kB 4.8 MB/s eta 0:00:01\r\u001b[K     |██████████████████▍             | 901 kB 4.8 MB/s eta 0:00:01\r\u001b[K     |██████████████████▋             | 911 kB 4.8 MB/s eta 0:00:01\r\u001b[K     |██████████████████▉             | 921 kB 4.8 MB/s eta 0:00:01\r\u001b[K     |███████████████████             | 931 kB 4.8 MB/s eta 0:00:01\r\u001b[K     |███████████████████▎            | 942 kB 4.8 MB/s eta 0:00:01\r\u001b[K     |███████████████████▌            | 952 kB 4.8 MB/s eta 0:00:01\r\u001b[K     |███████████████████▋            | 962 kB 4.8 MB/s eta 0:00:01\r\u001b[K     |███████████████████▉            | 972 kB 4.8 MB/s eta 0:00:01\r\u001b[K     |████████████████████            | 983 kB 4.8 MB/s eta 0:00:01\r\u001b[K     |████████████████████▎           | 993 kB 4.8 MB/s eta 0:00:01\r\u001b[K     |████████████████████▌           | 1.0 MB 4.8 MB/s eta 0:00:01\r\u001b[K     |████████████████████▊           | 1.0 MB 4.8 MB/s eta 0:00:01\r\u001b[K     |█████████████████████           | 1.0 MB 4.8 MB/s eta 0:00:01\r\u001b[K     |█████████████████████▏          | 1.0 MB 4.8 MB/s eta 0:00:01\r\u001b[K     |█████████████████████▎          | 1.0 MB 4.8 MB/s eta 0:00:01\r\u001b[K     |█████████████████████▌          | 1.1 MB 4.8 MB/s eta 0:00:01\r\u001b[K     |█████████████████████▊          | 1.1 MB 4.8 MB/s eta 0:00:01\r\u001b[K     |██████████████████████          | 1.1 MB 4.8 MB/s eta 0:00:01\r\u001b[K     |██████████████████████▏         | 1.1 MB 4.8 MB/s eta 0:00:01\r\u001b[K     |██████████████████████▍         | 1.1 MB 4.8 MB/s eta 0:00:01\r\u001b[K     |██████████████████████▋         | 1.1 MB 4.8 MB/s eta 0:00:01\r\u001b[K     |██████████████████████▉         | 1.1 MB 4.8 MB/s eta 0:00:01\r\u001b[K     |███████████████████████         | 1.1 MB 4.8 MB/s eta 0:00:01\r\u001b[K     |███████████████████████▏        | 1.1 MB 4.8 MB/s eta 0:00:01\r\u001b[K     |███████████████████████▍        | 1.1 MB 4.8 MB/s eta 0:00:01\r\u001b[K     |███████████████████████▋        | 1.2 MB 4.8 MB/s eta 0:00:01\r\u001b[K     |███████████████████████▉        | 1.2 MB 4.8 MB/s eta 0:00:01\r\u001b[K     |████████████████████████        | 1.2 MB 4.8 MB/s eta 0:00:01\r\u001b[K     |████████████████████████▎       | 1.2 MB 4.8 MB/s eta 0:00:01\r\u001b[K     |████████████████████████▌       | 1.2 MB 4.8 MB/s eta 0:00:01\r\u001b[K     |████████████████████████▊       | 1.2 MB 4.8 MB/s eta 0:00:01\r\u001b[K     |████████████████████████▉       | 1.2 MB 4.8 MB/s eta 0:00:01\r\u001b[K     |█████████████████████████       | 1.2 MB 4.8 MB/s eta 0:00:01\r\u001b[K     |█████████████████████████▎      | 1.2 MB 4.8 MB/s eta 0:00:01\r\u001b[K     |█████████████████████████▌      | 1.2 MB 4.8 MB/s eta 0:00:01\r\u001b[K     |█████████████████████████▊      | 1.3 MB 4.8 MB/s eta 0:00:01\r\u001b[K     |██████████████████████████      | 1.3 MB 4.8 MB/s eta 0:00:01\r\u001b[K     |██████████████████████████▏     | 1.3 MB 4.8 MB/s eta 0:00:01\r\u001b[K     |██████████████████████████▍     | 1.3 MB 4.8 MB/s eta 0:00:01\r\u001b[K     |██████████████████████████▌     | 1.3 MB 4.8 MB/s eta 0:00:01\r\u001b[K     |██████████████████████████▊     | 1.3 MB 4.8 MB/s eta 0:00:01\r\u001b[K     |███████████████████████████     | 1.3 MB 4.8 MB/s eta 0:00:01\r\u001b[K     |███████████████████████████▏    | 1.3 MB 4.8 MB/s eta 0:00:01\r\u001b[K     |███████████████████████████▍    | 1.3 MB 4.8 MB/s eta 0:00:01\r\u001b[K     |███████████████████████████▋    | 1.4 MB 4.8 MB/s eta 0:00:01\r\u001b[K     |███████████████████████████▉    | 1.4 MB 4.8 MB/s eta 0:00:01\r\u001b[K     |████████████████████████████    | 1.4 MB 4.8 MB/s eta 0:00:01\r\u001b[K     |████████████████████████████▎   | 1.4 MB 4.8 MB/s eta 0:00:01\r\u001b[K     |████████████████████████████▍   | 1.4 MB 4.8 MB/s eta 0:00:01\r\u001b[K     |████████████████████████████▋   | 1.4 MB 4.8 MB/s eta 0:00:01\r\u001b[K     |████████████████████████████▉   | 1.4 MB 4.8 MB/s eta 0:00:01\r\u001b[K     |█████████████████████████████   | 1.4 MB 4.8 MB/s eta 0:00:01\r\u001b[K     |█████████████████████████████▎  | 1.4 MB 4.8 MB/s eta 0:00:01\r\u001b[K     |█████████████████████████████▌  | 1.4 MB 4.8 MB/s eta 0:00:01\r\u001b[K     |█████████████████████████████▊  | 1.5 MB 4.8 MB/s eta 0:00:01\r\u001b[K     |██████████████████████████████  | 1.5 MB 4.8 MB/s eta 0:00:01\r\u001b[K     |██████████████████████████████  | 1.5 MB 4.8 MB/s eta 0:00:01\r\u001b[K     |██████████████████████████████▎ | 1.5 MB 4.8 MB/s eta 0:00:01\r\u001b[K     |██████████████████████████████▌ | 1.5 MB 4.8 MB/s eta 0:00:01\r\u001b[K     |██████████████████████████████▊ | 1.5 MB 4.8 MB/s eta 0:00:01\r\u001b[K     |███████████████████████████████ | 1.5 MB 4.8 MB/s eta 0:00:01\r\u001b[K     |███████████████████████████████▏| 1.5 MB 4.8 MB/s eta 0:00:01\r\u001b[K     |███████████████████████████████▍| 1.5 MB 4.8 MB/s eta 0:00:01\r\u001b[K     |███████████████████████████████▋| 1.5 MB 4.8 MB/s eta 0:00:01\r\u001b[K     |███████████████████████████████▉| 1.6 MB 4.8 MB/s eta 0:00:01\r\u001b[K     |████████████████████████████████| 1.6 MB 4.8 MB/s eta 0:00:01\r\u001b[K     |████████████████████████████████| 1.6 MB 4.8 MB/s \n",
            "\u001b[?25h"
          ]
        }
      ]
    },
    {
      "cell_type": "code",
      "source": [
        "import torch\n",
        "import utils\n",
        "display = utils.notebook_init()  # checks"
      ],
      "metadata": {
        "colab": {
          "base_uri": "https://localhost:8080/"
        },
        "id": "56KDat1dMxtG",
        "outputId": "47245fad-21a6-48d1-f1c4-5e53d5c1f1ef"
      },
      "execution_count": null,
      "outputs": [
        {
          "output_type": "stream",
          "name": "stderr",
          "text": [
            "YOLOv5 🚀 v6.2-77-g4a37381 Python-3.7.14 torch-1.12.1+cu113 CUDA:0 (Tesla T4, 15110MiB)\n"
          ]
        },
        {
          "output_type": "stream",
          "name": "stdout",
          "text": [
            "Setup complete ✅ (2 CPUs, 12.7 GB RAM, 37.4/78.2 GB disk)\n"
          ]
        }
      ]
    },
    {
      "cell_type": "code",
      "source": [
        "!pip install clearml"
      ],
      "metadata": {
        "id": "mFoc4y39NQhL"
      },
      "execution_count": null,
      "outputs": []
    },
    {
      "cell_type": "code",
      "source": [
        "!clearml-init"
      ],
      "metadata": {
        "id": "s71ThmhJO5yC"
      },
      "execution_count": null,
      "outputs": []
    },
    {
      "cell_type": "markdown",
      "source": [
        "# Training"
      ],
      "metadata": {
        "id": "lOXVw1hPfjmC"
      }
    },
    {
      "cell_type": "markdown",
      "source": [
        "## Training using SGD optimizer"
      ],
      "metadata": {
        "id": "0k7yYhIpfl7S"
      }
    },
    {
      "cell_type": "code",
      "source": [
        "!python train.py --img 640 --batch 16 --epochs 20 --data MOXA_FMD_colab.yaml --weights yolov5l.pt --cache --save-period 5"
      ],
      "metadata": {
        "colab": {
          "base_uri": "https://localhost:8080/"
        },
        "id": "hhP0TZptPlZN",
        "outputId": "e26e9ed9-dab1-456e-ab33-ba87b772af2a"
      },
      "execution_count": null,
      "outputs": [
        {
          "output_type": "stream",
          "name": "stdout",
          "text": [
            "\u001b[34m\u001b[1mtrain: \u001b[0mweights=yolov5l.pt, cfg=, data=MOXA_FMD_colab.yaml, hyp=data/hyps/hyp.scratch-low.yaml, epochs=20, batch_size=16, imgsz=640, rect=False, resume=False, nosave=False, noval=False, noautoanchor=False, noplots=False, evolve=None, bucket=, cache=ram, image_weights=False, device=, multi_scale=False, single_cls=False, optimizer=SGD, sync_bn=False, workers=8, project=runs/train, name=exp, exist_ok=False, quad=False, cos_lr=False, label_smoothing=0.0, patience=100, freeze=[0], save_period=-1, seed=0, local_rank=-1, entity=None, upload_dataset=False, bbox_interval=-1, artifact_alias=latest\n",
            "remote: Enumerating objects: 84, done.\u001b[K\n",
            "remote: Counting objects: 100% (79/79), done.\u001b[K\n",
            "remote: Compressing objects: 100% (60/60), done.\u001b[K\n",
            "remote: Total 84 (delta 44), reused 39 (delta 19), pack-reused 5\u001b[K\n",
            "Unpacking objects: 100% (84/84), done.\n",
            "From https://github.com/ultralytics/yolov5\n",
            "   5f1000a..1aea74c  master     -> origin/master\n",
            " * [new branch]      pre-commit-ci-update-config -> origin/pre-commit-ci-update-config\n",
            "\u001b[34m\u001b[1mgithub: \u001b[0m⚠️ YOLOv5 is out of date by 17 commits. Use `git pull` or `git clone https://github.com/ultralytics/yolov5` to update.\n",
            "YOLOv5 🚀 v6.2-77-g4a37381 Python-3.7.13 torch-1.12.1+cu113 CUDA:0 (Tesla T4, 15110MiB)\n",
            "\n",
            "\u001b[34m\u001b[1mhyperparameters: \u001b[0mlr0=0.01, lrf=0.01, momentum=0.937, weight_decay=0.0005, warmup_epochs=3.0, warmup_momentum=0.8, warmup_bias_lr=0.1, box=0.05, cls=0.5, cls_pw=1.0, obj=1.0, obj_pw=1.0, iou_t=0.2, anchor_t=4.0, fl_gamma=0.0, hsv_h=0.015, hsv_s=0.7, hsv_v=0.4, degrees=0.0, translate=0.1, scale=0.5, shear=0.0, perspective=0.0, flipud=0.0, fliplr=0.5, mosaic=1.0, mixup=0.0, copy_paste=0.0\n",
            "\u001b[34m\u001b[1mWeights & Biases: \u001b[0mrun 'pip install wandb' to automatically track and visualize YOLOv5 🚀 runs in Weights & Biases\n",
            "\u001b[34m\u001b[1mTensorBoard: \u001b[0mStart with 'tensorboard --logdir runs/train', view at http://localhost:6006/\n",
            "ClearML Task: created new task id=4d3284046e4c405199366801d6068d67\n",
            "ClearML results page: https://app.clear.ml/projects/685bfc3c471342f4bc9714ba8b5cc976/experiments/4d3284046e4c405199366801d6068d67/output/log\n",
            "Overriding model.yaml nc=80 with nc=2\n",
            "\n",
            "                 from  n    params  module                                  arguments                     \n",
            "  0                -1  1      7040  models.common.Conv                      [3, 64, 6, 2, 2]              \n",
            "  1                -1  1     73984  models.common.Conv                      [64, 128, 3, 2]               \n",
            "  2                -1  3    156928  models.common.C3                        [128, 128, 3]                 \n",
            "  3                -1  1    295424  models.common.Conv                      [128, 256, 3, 2]              \n",
            "  4                -1  6   1118208  models.common.C3                        [256, 256, 6]                 \n",
            "  5                -1  1   1180672  models.common.Conv                      [256, 512, 3, 2]              \n",
            "  6                -1  9   6433792  models.common.C3                        [512, 512, 9]                 \n",
            "  7                -1  1   4720640  models.common.Conv                      [512, 1024, 3, 2]             \n",
            "  8                -1  3   9971712  models.common.C3                        [1024, 1024, 3]               \n",
            "  9                -1  1   2624512  models.common.SPPF                      [1024, 1024, 5]               \n",
            " 10                -1  1    525312  models.common.Conv                      [1024, 512, 1, 1]             \n",
            " 11                -1  1         0  torch.nn.modules.upsampling.Upsample    [None, 2, 'nearest']          \n",
            " 12           [-1, 6]  1         0  models.common.Concat                    [1]                           \n",
            " 13                -1  3   2757632  models.common.C3                        [1024, 512, 3, False]         \n",
            " 14                -1  1    131584  models.common.Conv                      [512, 256, 1, 1]              \n",
            " 15                -1  1         0  torch.nn.modules.upsampling.Upsample    [None, 2, 'nearest']          \n",
            " 16           [-1, 4]  1         0  models.common.Concat                    [1]                           \n",
            " 17                -1  3    690688  models.common.C3                        [512, 256, 3, False]          \n",
            " 18                -1  1    590336  models.common.Conv                      [256, 256, 3, 2]              \n",
            " 19          [-1, 14]  1         0  models.common.Concat                    [1]                           \n",
            " 20                -1  3   2495488  models.common.C3                        [512, 512, 3, False]          \n",
            " 21                -1  1   2360320  models.common.Conv                      [512, 512, 3, 2]              \n",
            " 22          [-1, 10]  1         0  models.common.Concat                    [1]                           \n",
            " 23                -1  3   9971712  models.common.C3                        [1024, 1024, 3, False]        \n",
            " 24      [17, 20, 23]  1     37695  models.yolo.Detect                      [2, [[10, 13, 16, 30, 33, 23], [30, 61, 62, 45, 59, 119], [116, 90, 156, 198, 373, 326]], [256, 512, 1024]]\n",
            "Model summary: 468 layers, 46143679 parameters, 46143679 gradients, 108.2 GFLOPs\n",
            "\n",
            "Transferred 607/613 items from yolov5l.pt\n",
            "\u001b[34m\u001b[1mAMP: \u001b[0mchecks passed ✅\n",
            "\u001b[34m\u001b[1moptimizer:\u001b[0m SGD(lr=0.01) with parameter groups 101 weight(decay=0.0), 104 weight(decay=0.0005), 104 bias\n",
            "\u001b[34m\u001b[1malbumentations: \u001b[0mBlur(p=0.01, blur_limit=(3, 7)), MedianBlur(p=0.01, blur_limit=(3, 7)), ToGray(p=0.01), CLAHE(p=0.01, clip_limit=(1, 4.0), tile_grid_size=(8, 8))\n",
            "\u001b[34m\u001b[1mtrain: \u001b[0mScanning '/content/drive/MyDrive/YOLO/yolov5/data/Data/train' images and labels...3136 found, 0 missing, 0 empty, 0 corrupt: 100% 3136/3136 [01:41<00:00, 30.85it/s] \n",
            "\u001b[34m\u001b[1mtrain: \u001b[0mNew cache created: /content/drive/MyDrive/YOLO/yolov5/data/Data/train.cache\n",
            "\u001b[34m\u001b[1mtrain: \u001b[0mCaching images (2.6GB ram): 100% 3136/3136 [00:35<00:00, 89.40it/s]\n",
            "\u001b[34m\u001b[1mval: \u001b[0mScanning '/content/drive/MyDrive/YOLO/yolov5/data/Data/val' images and labels...392 found, 0 missing, 0 empty, 0 corrupt: 100% 392/392 [00:09<00:00, 41.66it/s] \n",
            "\u001b[34m\u001b[1mval: \u001b[0mNew cache created: /content/drive/MyDrive/YOLO/yolov5/data/Data/val.cache\n",
            "\u001b[34m\u001b[1mval: \u001b[0mCaching images (0.3GB ram): 100% 392/392 [00:06<00:00, 60.47it/s]\n",
            "\n",
            "\u001b[34m\u001b[1mAutoAnchor: \u001b[0m5.61 anchors/target, 1.000 Best Possible Recall (BPR). Current anchors are a good fit to dataset ✅\n",
            "Plotting labels to runs/train/exp3/labels.jpg... \n",
            "Image sizes 640 train, 640 val\n",
            "Using 2 dataloader workers\n",
            "Logging results to \u001b[1mruns/train/exp3\u001b[0m\n",
            "Starting training for 20 epochs...\n",
            "\n",
            "      Epoch    GPU_mem   box_loss   obj_loss   cls_loss  Instances       Size\n",
            "  0% 0/196 [00:00<?, ?it/s]ClearML Monitor: Could not detect iteration reporting, falling back to iterations as seconds-from-start\n",
            "       0/19      10.1G    0.08048    0.05443    0.02086         70        640: 100% 196/196 [02:02<00:00,  1.60it/s]\n",
            "                 Class     Images  Instances          P          R     mAP@.5 mAP@.5:.95: 100% 13/13 [00:06<00:00,  1.98it/s]\n",
            "                   all        392       1540      0.221      0.542      0.346      0.118\n",
            "\n",
            "      Epoch    GPU_mem   box_loss   obj_loss   cls_loss  Instances       Size\n",
            "       1/19      13.2G    0.05992    0.04118    0.01215        110        640: 100% 196/196 [01:59<00:00,  1.63it/s]\n",
            "                 Class     Images  Instances          P          R     mAP@.5 mAP@.5:.95: 100% 13/13 [00:06<00:00,  2.07it/s]\n",
            "                   all        392       1540      0.445      0.661        0.5      0.178\n",
            "\n",
            "      Epoch    GPU_mem   box_loss   obj_loss   cls_loss  Instances       Size\n",
            "       2/19      13.2G    0.05475    0.03977   0.007612        131        640: 100% 196/196 [02:00<00:00,  1.63it/s]\n",
            "                 Class     Images  Instances          P          R     mAP@.5 mAP@.5:.95: 100% 13/13 [00:06<00:00,  2.13it/s]\n",
            "                   all        392       1540      0.734      0.732       0.74      0.289\n",
            "\n",
            "      Epoch    GPU_mem   box_loss   obj_loss   cls_loss  Instances       Size\n",
            "       3/19      13.2G    0.04913    0.03957   0.006267        235        640: 100% 196/196 [02:00<00:00,  1.62it/s]\n",
            "                 Class     Images  Instances          P          R     mAP@.5 mAP@.5:.95: 100% 13/13 [00:06<00:00,  2.16it/s]\n",
            "                   all        392       1540       0.74      0.725      0.704      0.281\n",
            "\n",
            "      Epoch    GPU_mem   box_loss   obj_loss   cls_loss  Instances       Size\n",
            "       4/19      13.2G    0.04566    0.03839   0.005665        132        640: 100% 196/196 [02:01<00:00,  1.62it/s]\n",
            "                 Class     Images  Instances          P          R     mAP@.5 mAP@.5:.95: 100% 13/13 [00:05<00:00,  2.21it/s]\n",
            "                   all        392       1540      0.825      0.743      0.797       0.35\n",
            "\n",
            "      Epoch    GPU_mem   box_loss   obj_loss   cls_loss  Instances       Size\n",
            "       5/19      13.2G    0.04387    0.03802    0.00476         90        640: 100% 196/196 [02:02<00:00,  1.60it/s]\n",
            "                 Class     Images  Instances          P          R     mAP@.5 mAP@.5:.95: 100% 13/13 [00:05<00:00,  2.23it/s]\n",
            "                   all        392       1540      0.831      0.767      0.819      0.369\n",
            "\n",
            "      Epoch    GPU_mem   box_loss   obj_loss   cls_loss  Instances       Size\n",
            "       6/19      13.2G    0.04208    0.03785   0.004731        166        640: 100% 196/196 [02:01<00:00,  1.61it/s]\n",
            "                 Class     Images  Instances          P          R     mAP@.5 mAP@.5:.95: 100% 13/13 [00:05<00:00,  2.20it/s]\n",
            "                   all        392       1540      0.829       0.74      0.798      0.368\n",
            "\n",
            "      Epoch    GPU_mem   box_loss   obj_loss   cls_loss  Instances       Size\n",
            "       7/19      13.2G    0.04054      0.037   0.004157        110        640: 100% 196/196 [02:01<00:00,  1.61it/s]\n",
            "                 Class     Images  Instances          P          R     mAP@.5 mAP@.5:.95: 100% 13/13 [00:05<00:00,  2.21it/s]\n",
            "                   all        392       1540      0.808      0.761        0.8      0.369\n",
            "\n",
            "      Epoch    GPU_mem   box_loss   obj_loss   cls_loss  Instances       Size\n",
            "       8/19      13.2G    0.03993    0.03635   0.003858        117        640: 100% 196/196 [02:01<00:00,  1.61it/s]\n",
            "                 Class     Images  Instances          P          R     mAP@.5 mAP@.5:.95: 100% 13/13 [00:05<00:00,  2.18it/s]\n",
            "                   all        392       1540      0.841      0.781      0.819      0.381\n",
            "\n",
            "      Epoch    GPU_mem   box_loss   obj_loss   cls_loss  Instances       Size\n",
            "       9/19      13.2G    0.03893    0.03633   0.003647         88        640: 100% 196/196 [02:01<00:00,  1.61it/s]\n",
            "                 Class     Images  Instances          P          R     mAP@.5 mAP@.5:.95: 100% 13/13 [00:05<00:00,  2.17it/s]\n",
            "                   all        392       1540       0.79      0.759        0.8      0.373\n",
            "\n",
            "      Epoch    GPU_mem   box_loss   obj_loss   cls_loss  Instances       Size\n",
            "      10/19      13.2G    0.03799    0.03593   0.003392        150        640: 100% 196/196 [02:01<00:00,  1.62it/s]\n",
            "                 Class     Images  Instances          P          R     mAP@.5 mAP@.5:.95: 100% 13/13 [00:05<00:00,  2.19it/s]\n",
            "                   all        392       1540      0.808      0.762      0.796      0.377\n",
            "\n",
            "      Epoch    GPU_mem   box_loss   obj_loss   cls_loss  Instances       Size\n",
            "      11/19      13.2G    0.03728    0.03509    0.00334        120        640: 100% 196/196 [02:01<00:00,  1.62it/s]\n",
            "                 Class     Images  Instances          P          R     mAP@.5 mAP@.5:.95: 100% 13/13 [00:05<00:00,  2.18it/s]\n",
            "                   all        392       1540      0.833      0.781      0.814      0.389\n",
            "\n",
            "      Epoch    GPU_mem   box_loss   obj_loss   cls_loss  Instances       Size\n",
            "      12/19      13.2G    0.03686    0.03464   0.002881         82        640: 100% 196/196 [02:01<00:00,  1.62it/s]\n",
            "                 Class     Images  Instances          P          R     mAP@.5 mAP@.5:.95: 100% 13/13 [00:05<00:00,  2.20it/s]\n",
            "                   all        392       1540      0.831      0.783      0.812      0.373\n",
            "\n",
            "      Epoch    GPU_mem   box_loss   obj_loss   cls_loss  Instances       Size\n",
            "      13/19      13.2G    0.03512    0.03327   0.002699        137        640: 100% 196/196 [02:01<00:00,  1.62it/s]\n",
            "                 Class     Images  Instances          P          R     mAP@.5 mAP@.5:.95: 100% 13/13 [00:05<00:00,  2.20it/s]\n",
            "                   all        392       1540      0.823      0.776      0.806       0.38\n",
            "\n",
            "      Epoch    GPU_mem   box_loss   obj_loss   cls_loss  Instances       Size\n",
            "      14/19      13.2G    0.03543    0.03429   0.002578        119        640: 100% 196/196 [02:01<00:00,  1.61it/s]\n",
            "                 Class     Images  Instances          P          R     mAP@.5 mAP@.5:.95: 100% 13/13 [00:05<00:00,  2.23it/s]\n",
            "                   all        392       1540      0.825      0.772      0.816      0.389\n",
            "\n",
            "      Epoch    GPU_mem   box_loss   obj_loss   cls_loss  Instances       Size\n",
            "      15/19      13.2G    0.03478    0.03375   0.002264        124        640: 100% 196/196 [02:01<00:00,  1.62it/s]\n",
            "                 Class     Images  Instances          P          R     mAP@.5 mAP@.5:.95: 100% 13/13 [00:05<00:00,  2.24it/s]\n",
            "                   all        392       1540      0.842      0.764        0.8      0.372\n",
            "\n",
            "      Epoch    GPU_mem   box_loss   obj_loss   cls_loss  Instances       Size\n",
            "      16/19      13.2G    0.03378    0.03315   0.002079        174        640: 100% 196/196 [02:01<00:00,  1.61it/s]\n",
            "                 Class     Images  Instances          P          R     mAP@.5 mAP@.5:.95: 100% 13/13 [00:05<00:00,  2.24it/s]\n",
            "                   all        392       1540      0.802       0.76      0.785      0.372\n",
            "\n",
            "      Epoch    GPU_mem   box_loss   obj_loss   cls_loss  Instances       Size\n",
            "      17/19      13.2G    0.03308    0.03289   0.001966        137        640: 100% 196/196 [02:01<00:00,  1.61it/s]\n",
            "                 Class     Images  Instances          P          R     mAP@.5 mAP@.5:.95: 100% 13/13 [00:05<00:00,  2.24it/s]\n",
            "                   all        392       1540      0.809       0.78      0.798      0.374\n",
            "\n",
            "      Epoch    GPU_mem   box_loss   obj_loss   cls_loss  Instances       Size\n",
            "      18/19      13.2G    0.03258    0.03223     0.0019        156        640: 100% 196/196 [02:01<00:00,  1.61it/s]\n",
            "                 Class     Images  Instances          P          R     mAP@.5 mAP@.5:.95: 100% 13/13 [00:05<00:00,  2.18it/s]\n",
            "                   all        392       1540      0.812      0.778      0.803      0.384\n",
            "\n",
            "      Epoch    GPU_mem   box_loss   obj_loss   cls_loss  Instances       Size\n",
            "      19/19      13.2G    0.03178    0.03189   0.001693        133        640: 100% 196/196 [02:01<00:00,  1.61it/s]\n",
            "                 Class     Images  Instances          P          R     mAP@.5 mAP@.5:.95: 100% 13/13 [00:05<00:00,  2.20it/s]\n",
            "                   all        392       1540      0.814      0.767      0.798      0.374\n",
            "\n",
            "20 epochs completed in 0.721 hours.\n",
            "Optimizer stripped from runs/train/exp3/weights/last.pt, 92.8MB\n",
            "Optimizer stripped from runs/train/exp3/weights/best.pt, 92.8MB\n",
            "\n",
            "Validating runs/train/exp3/weights/best.pt...\n",
            "Fusing layers... \n",
            "Model summary: 367 layers, 46113663 parameters, 0 gradients, 107.7 GFLOPs\n",
            "                 Class     Images  Instances          P          R     mAP@.5 mAP@.5:.95: 100% 13/13 [00:08<00:00,  1.58it/s]\n",
            "                   all        392       1540      0.834      0.781      0.814      0.389\n",
            "               no_mask        392        341      0.796      0.695      0.746      0.368\n",
            "                  mask        392       1199      0.872      0.867      0.882       0.41\n",
            "Results saved to \u001b[1mruns/train/exp3\u001b[0m\n",
            "2022-09-06 12:47:20,800 - clearml.Task - INFO - Waiting to finish uploads\n",
            "2022-09-06 12:47:22,779 - clearml.Task - INFO - Completed model upload to https://files.clear.ml/YOLOv5/training.4d3284046e4c405199366801d6068d67/models/best.pt\n",
            "2022-09-06 12:47:29,151 - clearml.Task - INFO - Finished uploading\n"
          ]
        }
      ]
    },
    {
      "cell_type": "markdown",
      "source": [
        "## Training using SGD optimizer"
      ],
      "metadata": {
        "id": "fu77K1irfq7O"
      }
    },
    {
      "cell_type": "code",
      "source": [
        "!python train.py --img 640 --batch 16 --epochs 20 --data MOXA_FMD_colab.yaml --weights yolov5l.pt --cache --save-period 5 --optimizer Adam"
      ],
      "metadata": {
        "colab": {
          "base_uri": "https://localhost:8080/"
        },
        "id": "wtvX1uBh7Vph",
        "outputId": "0de3c1b8-fe13-41f2-a398-88fa3ccb1e60"
      },
      "execution_count": null,
      "outputs": [
        {
          "output_type": "stream",
          "name": "stdout",
          "text": [
            "\u001b[34m\u001b[1mtrain: \u001b[0mweights=yolov5l.pt, cfg=, data=MOXA_FMD_colab.yaml, hyp=data/hyps/hyp.scratch-low.yaml, epochs=20, batch_size=16, imgsz=640, rect=False, resume=False, nosave=False, noval=False, noautoanchor=False, noplots=False, evolve=None, bucket=, cache=ram, image_weights=False, device=, multi_scale=False, single_cls=False, optimizer=Adam, sync_bn=False, workers=8, project=runs/train, name=exp, exist_ok=False, quad=False, cos_lr=False, label_smoothing=0.0, patience=100, freeze=[0], save_period=5, seed=0, local_rank=-1, entity=None, upload_dataset=False, bbox_interval=-1, artifact_alias=latest\n",
            "remote: Enumerating objects: 61, done.\u001b[K\n",
            "remote: Counting objects: 100% (55/55), done.\u001b[K\n",
            "remote: Compressing objects: 100% (29/29), done.\u001b[K\n",
            "remote: Total 61 (delta 37), reused 38 (delta 26), pack-reused 6\u001b[K\n",
            "default message here: Command 'git fetch origin' timed out after 5 seconds\n",
            "Unpacking objects: 100% (61/61), done.\n",
            "\u001b[31m\u001b[1mrequirements:\u001b[0m thop>=0.1.1 not found and is required by YOLOv5, attempting auto-update...\n",
            "Looking in indexes: https://pypi.org/simple, https://us-python.pkg.dev/colab-wheels/public/simple/\n",
            "Collecting thop>=0.1.1\n",
            "  Downloading thop-0.1.1.post2209072238-py3-none-any.whl (15 kB)\n",
            "Requirement already satisfied: torch in /usr/local/lib/python3.7/dist-packages (from thop>=0.1.1) (1.12.1+cu113)\n",
            "Requirement already satisfied: typing-extensions in /usr/local/lib/python3.7/dist-packages (from torch->thop>=0.1.1) (4.1.1)\n",
            "Installing collected packages: thop\n",
            "Successfully installed thop-0.1.1.post2209072238\n",
            "\n",
            "\u001b[31m\u001b[1mrequirements:\u001b[0m 1 package updated per /content/drive/MyDrive/YOLO/yolov5/requirements.txt\n",
            "\u001b[31m\u001b[1mrequirements:\u001b[0m ⚠️ \u001b[1mRestart runtime or rerun command for updates to take effect\u001b[0m\n",
            "\n",
            "YOLOv5 🚀 v6.2-77-g4a37381 Python-3.7.14 torch-1.12.1+cu113 CUDA:0 (Tesla T4, 15110MiB)\n",
            "\n",
            "\u001b[34m\u001b[1mhyperparameters: \u001b[0mlr0=0.01, lrf=0.01, momentum=0.937, weight_decay=0.0005, warmup_epochs=3.0, warmup_momentum=0.8, warmup_bias_lr=0.1, box=0.05, cls=0.5, cls_pw=1.0, obj=1.0, obj_pw=1.0, iou_t=0.2, anchor_t=4.0, fl_gamma=0.0, hsv_h=0.015, hsv_s=0.7, hsv_v=0.4, degrees=0.0, translate=0.1, scale=0.5, shear=0.0, perspective=0.0, flipud=0.0, fliplr=0.5, mosaic=1.0, mixup=0.0, copy_paste=0.0\n",
            "\u001b[34m\u001b[1mWeights & Biases: \u001b[0mrun 'pip install wandb' to automatically track and visualize YOLOv5 🚀 runs in Weights & Biases\n",
            "\u001b[34m\u001b[1mClearML: \u001b[0mrun 'pip install clearml' to automatically track, visualize and remotely train YOLOv5 🚀 in ClearML\n",
            "\u001b[34m\u001b[1mTensorBoard: \u001b[0mStart with 'tensorboard --logdir runs/train', view at http://localhost:6006/\n",
            "From https://github.com/ultralytics/yolov5\n",
            "   03f2ca8..6a9fffd  master            -> origin/master\n",
            " * [new branch]      coreml_benchmarks -> origin/coreml_benchmarks\n",
            "   52ede28..d9ab42f  ultralytics/HUB   -> origin/ultralytics/HUB\n",
            "Overriding model.yaml nc=80 with nc=2\n",
            "\n",
            "                 from  n    params  module                                  arguments                     \n",
            "  0                -1  1      7040  models.common.Conv                      [3, 64, 6, 2, 2]              \n",
            "  1                -1  1     73984  models.common.Conv                      [64, 128, 3, 2]               \n",
            "  2                -1  3    156928  models.common.C3                        [128, 128, 3]                 \n",
            "  3                -1  1    295424  models.common.Conv                      [128, 256, 3, 2]              \n",
            "  4                -1  6   1118208  models.common.C3                        [256, 256, 6]                 \n",
            "  5                -1  1   1180672  models.common.Conv                      [256, 512, 3, 2]              \n",
            "  6                -1  9   6433792  models.common.C3                        [512, 512, 9]                 \n",
            "  7                -1  1   4720640  models.common.Conv                      [512, 1024, 3, 2]             \n",
            "  8                -1  3   9971712  models.common.C3                        [1024, 1024, 3]               \n",
            "  9                -1  1   2624512  models.common.SPPF                      [1024, 1024, 5]               \n",
            " 10                -1  1    525312  models.common.Conv                      [1024, 512, 1, 1]             \n",
            " 11                -1  1         0  torch.nn.modules.upsampling.Upsample    [None, 2, 'nearest']          \n",
            " 12           [-1, 6]  1         0  models.common.Concat                    [1]                           \n",
            " 13                -1  3   2757632  models.common.C3                        [1024, 512, 3, False]         \n",
            " 14                -1  1    131584  models.common.Conv                      [512, 256, 1, 1]              \n",
            " 15                -1  1         0  torch.nn.modules.upsampling.Upsample    [None, 2, 'nearest']          \n",
            " 16           [-1, 4]  1         0  models.common.Concat                    [1]                           \n",
            " 17                -1  3    690688  models.common.C3                        [512, 256, 3, False]          \n",
            " 18                -1  1    590336  models.common.Conv                      [256, 256, 3, 2]              \n",
            " 19          [-1, 14]  1         0  models.common.Concat                    [1]                           \n",
            " 20                -1  3   2495488  models.common.C3                        [512, 512, 3, False]          \n",
            " 21                -1  1   2360320  models.common.Conv                      [512, 512, 3, 2]              \n",
            " 22          [-1, 10]  1         0  models.common.Concat                    [1]                           \n",
            " 23                -1  3   9971712  models.common.C3                        [1024, 1024, 3, False]        \n",
            " 24      [17, 20, 23]  1     37695  models.yolo.Detect                      [2, [[10, 13, 16, 30, 33, 23], [30, 61, 62, 45, 59, 119], [116, 90, 156, 198, 373, 326]], [256, 512, 1024]]\n",
            "Model summary: 468 layers, 46143679 parameters, 46143679 gradients\n",
            "\n",
            "Transferred 607/613 items from yolov5l.pt\n",
            "\u001b[34m\u001b[1mAMP: \u001b[0mchecks passed ✅\n",
            "\u001b[34m\u001b[1moptimizer:\u001b[0m Adam(lr=0.01) with parameter groups 101 weight(decay=0.0), 104 weight(decay=0.0005), 104 bias\n",
            "\u001b[34m\u001b[1malbumentations: \u001b[0mBlur(p=0.01, blur_limit=(3, 7)), MedianBlur(p=0.01, blur_limit=(3, 7)), ToGray(p=0.01), CLAHE(p=0.01, clip_limit=(1, 4.0), tile_grid_size=(8, 8))\n",
            "\u001b[34m\u001b[1mtrain: \u001b[0mScanning '/content/drive/MyDrive/YOLO/yolov5/data/Data/train' images and labels...3136 found, 0 missing, 0 empty, 0 corrupt: 100% 3136/3136 [01:49<00:00, 28.74it/s] \n",
            "\u001b[34m\u001b[1mtrain: \u001b[0mNew cache created: /content/drive/MyDrive/YOLO/yolov5/data/Data/train.cache\n",
            "\u001b[34m\u001b[1mtrain: \u001b[0mCaching images (2.6GB ram): 100% 3136/3136 [00:33<00:00, 94.41it/s]\n",
            "\u001b[34m\u001b[1mval: \u001b[0mScanning '/content/drive/MyDrive/YOLO/yolov5/data/Data/val' images and labels...392 found, 0 missing, 0 empty, 0 corrupt: 100% 392/392 [00:07<00:00, 54.85it/s] \n",
            "\u001b[34m\u001b[1mval: \u001b[0mNew cache created: /content/drive/MyDrive/YOLO/yolov5/data/Data/val.cache\n",
            "\u001b[34m\u001b[1mval: \u001b[0mCaching images (0.3GB ram): 100% 392/392 [00:06<00:00, 64.81it/s]\n",
            "\n",
            "\u001b[34m\u001b[1mAutoAnchor: \u001b[0m5.61 anchors/target, 1.000 Best Possible Recall (BPR). Current anchors are a good fit to dataset ✅\n",
            "Plotting labels to runs/train/exp8/labels.jpg... \n",
            "Image sizes 640 train, 640 val\n",
            "Using 2 dataloader workers\n",
            "Logging results to \u001b[1mruns/train/exp8\u001b[0m\n",
            "Starting training for 20 epochs...\n",
            "\n",
            "      Epoch    GPU_mem   box_loss   obj_loss   cls_loss  Instances       Size\n",
            "       0/19      10.1G    0.06592    0.05057    0.01679         70        640: 100% 196/196 [02:08<00:00,  1.52it/s]\n",
            "                 Class     Images  Instances          P          R     mAP@.5 mAP@.5:.95: 100% 13/13 [00:06<00:00,  2.04it/s]\n",
            "                   all        392       1540      0.169       0.18     0.0988     0.0311\n",
            "\n",
            "      Epoch    GPU_mem   box_loss   obj_loss   cls_loss  Instances       Size\n",
            "       1/19      13.2G    0.06165    0.04876    0.01134        110        640: 100% 196/196 [02:03<00:00,  1.59it/s]\n",
            "                 Class     Images  Instances          P          R     mAP@.5 mAP@.5:.95: 100% 13/13 [00:06<00:00,  2.04it/s]\n",
            "                   all        392       1540     0.0998      0.343      0.062     0.0192\n",
            "\n",
            "      Epoch    GPU_mem   box_loss   obj_loss   cls_loss  Instances       Size\n",
            "       2/19      13.2G    0.06025    0.04919    0.01039        131        640: 100% 196/196 [02:00<00:00,  1.62it/s]\n",
            "                 Class     Images  Instances          P          R     mAP@.5 mAP@.5:.95: 100% 13/13 [00:05<00:00,  2.39it/s]\n",
            "                   all        392       1540      0.283      0.403      0.187     0.0572\n",
            "\n",
            "      Epoch    GPU_mem   box_loss   obj_loss   cls_loss  Instances       Size\n",
            "       3/19      13.2G    0.05829    0.04926   0.009449        235        640: 100% 196/196 [02:00<00:00,  1.62it/s]\n",
            "                 Class     Images  Instances          P          R     mAP@.5 mAP@.5:.95: 100% 13/13 [00:05<00:00,  2.38it/s]\n",
            "                   all        392       1540      0.607      0.453      0.488      0.166\n",
            "\n",
            "      Epoch    GPU_mem   box_loss   obj_loss   cls_loss  Instances       Size\n",
            "       4/19      13.2G    0.05518    0.04744   0.008966        132        640: 100% 196/196 [02:00<00:00,  1.62it/s]\n",
            "                 Class     Images  Instances          P          R     mAP@.5 mAP@.5:.95: 100% 13/13 [00:05<00:00,  2.45it/s]\n",
            "                   all        392       1540      0.603      0.511      0.541      0.186\n",
            "\n",
            "      Epoch    GPU_mem   box_loss   obj_loss   cls_loss  Instances       Size\n",
            "       5/19      13.2G    0.05366    0.04688   0.008092         90        640: 100% 196/196 [02:00<00:00,  1.63it/s]\n",
            "                 Class     Images  Instances          P          R     mAP@.5 mAP@.5:.95: 100% 13/13 [00:05<00:00,  2.45it/s]\n",
            "                   all        392       1540      0.675       0.49      0.548      0.208\n",
            "\n",
            "      Epoch    GPU_mem   box_loss   obj_loss   cls_loss  Instances       Size\n",
            "       6/19      13.2G    0.05361    0.04716   0.008142        166        640: 100% 196/196 [02:01<00:00,  1.61it/s]\n",
            "                 Class     Images  Instances          P          R     mAP@.5 mAP@.5:.95: 100% 13/13 [00:05<00:00,  2.45it/s]\n",
            "                   all        392       1540      0.743      0.582       0.64      0.239\n",
            "\n",
            "      Epoch    GPU_mem   box_loss   obj_loss   cls_loss  Instances       Size\n",
            "       7/19      13.2G    0.05163    0.04635   0.007863        110        640: 100% 196/196 [02:00<00:00,  1.63it/s]\n",
            "                 Class     Images  Instances          P          R     mAP@.5 mAP@.5:.95: 100% 13/13 [00:05<00:00,  2.43it/s]\n",
            "                   all        392       1540      0.752      0.531      0.627      0.235\n",
            "\n",
            "      Epoch    GPU_mem   box_loss   obj_loss   cls_loss  Instances       Size\n",
            "       8/19      13.2G    0.05153    0.04561   0.007373        117        640: 100% 196/196 [01:59<00:00,  1.64it/s]\n",
            "                 Class     Images  Instances          P          R     mAP@.5 mAP@.5:.95: 100% 13/13 [00:05<00:00,  2.44it/s]\n",
            "                   all        392       1540      0.631      0.565      0.605       0.23\n",
            "\n",
            "      Epoch    GPU_mem   box_loss   obj_loss   cls_loss  Instances       Size\n",
            "       9/19      13.2G    0.05021     0.0455   0.007619         88        640: 100% 196/196 [01:59<00:00,  1.63it/s]\n",
            "                 Class     Images  Instances          P          R     mAP@.5 mAP@.5:.95: 100% 13/13 [00:05<00:00,  2.44it/s]\n",
            "                   all        392       1540      0.714        0.6      0.655      0.238\n",
            "\n",
            "      Epoch    GPU_mem   box_loss   obj_loss   cls_loss  Instances       Size\n",
            "      10/19      13.2G    0.05064    0.04563   0.007144        150        640: 100% 196/196 [02:00<00:00,  1.63it/s]\n",
            "                 Class     Images  Instances          P          R     mAP@.5 mAP@.5:.95: 100% 13/13 [00:05<00:00,  2.42it/s]\n",
            "                   all        392       1540      0.767      0.601      0.663      0.254\n",
            "\n",
            "      Epoch    GPU_mem   box_loss   obj_loss   cls_loss  Instances       Size\n",
            "      11/19      13.2G    0.05068    0.04492   0.007326        120        640: 100% 196/196 [02:00<00:00,  1.62it/s]\n",
            "                 Class     Images  Instances          P          R     mAP@.5 mAP@.5:.95: 100% 13/13 [00:05<00:00,  2.43it/s]\n",
            "                   all        392       1540      0.695      0.625       0.67      0.259\n",
            "\n",
            "      Epoch    GPU_mem   box_loss   obj_loss   cls_loss  Instances       Size\n",
            "      12/19      13.2G     0.0484    0.04414   0.006971         82        640: 100% 196/196 [02:00<00:00,  1.63it/s]\n",
            "                 Class     Images  Instances          P          R     mAP@.5 mAP@.5:.95: 100% 13/13 [00:05<00:00,  2.46it/s]\n",
            "                   all        392       1540      0.738       0.62      0.672      0.254\n",
            "\n",
            "      Epoch    GPU_mem   box_loss   obj_loss   cls_loss  Instances       Size\n",
            "      13/19      13.2G    0.04737    0.04297   0.006519        137        640: 100% 196/196 [01:59<00:00,  1.64it/s]\n",
            "                 Class     Images  Instances          P          R     mAP@.5 mAP@.5:.95: 100% 13/13 [00:05<00:00,  2.44it/s]\n",
            "                   all        392       1540      0.805      0.677      0.743      0.305\n",
            "\n",
            "      Epoch    GPU_mem   box_loss   obj_loss   cls_loss  Instances       Size\n",
            "      14/19      13.2G    0.04776    0.04457   0.006533        119        640: 100% 196/196 [02:00<00:00,  1.63it/s]\n",
            "                 Class     Images  Instances          P          R     mAP@.5 mAP@.5:.95: 100% 13/13 [00:05<00:00,  2.44it/s]\n",
            "                   all        392       1540      0.788      0.664      0.741      0.308\n",
            "\n",
            "      Epoch    GPU_mem   box_loss   obj_loss   cls_loss  Instances       Size\n",
            "      15/19      13.2G    0.04699    0.04358   0.005986        124        640: 100% 196/196 [02:00<00:00,  1.63it/s]\n",
            "                 Class     Images  Instances          P          R     mAP@.5 mAP@.5:.95: 100% 13/13 [00:05<00:00,  2.45it/s]\n",
            "                   all        392       1540      0.793      0.653      0.728       0.29\n",
            "\n",
            "      Epoch    GPU_mem   box_loss   obj_loss   cls_loss  Instances       Size\n",
            "      16/19      13.2G    0.04607    0.04327   0.006075        174        640: 100% 196/196 [02:00<00:00,  1.63it/s]\n",
            "                 Class     Images  Instances          P          R     mAP@.5 mAP@.5:.95: 100% 13/13 [00:05<00:00,  2.45it/s]\n",
            "                   all        392       1540      0.803       0.69      0.754      0.303\n",
            "\n",
            "      Epoch    GPU_mem   box_loss   obj_loss   cls_loss  Instances       Size\n",
            "      17/19      13.2G    0.04487    0.04302   0.005808        137        640: 100% 196/196 [01:59<00:00,  1.64it/s]\n",
            "                 Class     Images  Instances          P          R     mAP@.5 mAP@.5:.95: 100% 13/13 [00:05<00:00,  2.44it/s]\n",
            "                   all        392       1540      0.741      0.715      0.758      0.298\n",
            "\n",
            "      Epoch    GPU_mem   box_loss   obj_loss   cls_loss  Instances       Size\n",
            "      18/19      13.2G    0.04421    0.04209   0.005321        156        640: 100% 196/196 [01:59<00:00,  1.64it/s]\n",
            "                 Class     Images  Instances          P          R     mAP@.5 mAP@.5:.95: 100% 13/13 [00:05<00:00,  2.39it/s]\n",
            "                   all        392       1540       0.84      0.716      0.798      0.337\n",
            "\n",
            "      Epoch    GPU_mem   box_loss   obj_loss   cls_loss  Instances       Size\n",
            "      19/19      13.2G    0.04336    0.04188   0.005029        133        640: 100% 196/196 [02:00<00:00,  1.63it/s]\n",
            "                 Class     Images  Instances          P          R     mAP@.5 mAP@.5:.95: 100% 13/13 [00:05<00:00,  2.45it/s]\n",
            "                   all        392       1540      0.833      0.746      0.792       0.34\n",
            "\n",
            "20 epochs completed in 0.727 hours.\n",
            "Optimizer stripped from runs/train/exp8/weights/last.pt, 92.8MB\n",
            "Optimizer stripped from runs/train/exp8/weights/best.pt, 92.8MB\n",
            "\n",
            "Validating runs/train/exp8/weights/best.pt...\n",
            "Fusing layers... \n",
            "Model summary: 367 layers, 46113663 parameters, 0 gradients\n",
            "                 Class     Images  Instances          P          R     mAP@.5 mAP@.5:.95: 100% 13/13 [00:07<00:00,  1.71it/s]\n",
            "                   all        392       1540      0.833      0.746      0.791       0.34\n",
            "               no_mask        392        341       0.79      0.654      0.697      0.282\n",
            "                  mask        392       1199      0.876      0.837      0.886      0.398\n",
            "Results saved to \u001b[1mruns/train/exp8\u001b[0m\n"
          ]
        }
      ]
    },
    {
      "cell_type": "markdown",
      "source": [
        "## Training using ADAM optimizer"
      ],
      "metadata": {
        "id": "mYMW9-w2fzWC"
      }
    },
    {
      "cell_type": "code",
      "source": [
        "!python train.py --img 640 --batch 16 --epochs 40 --data MOXA_FMD_colab.yaml --weights yolov5l.pt --cache --optimizer Adam"
      ],
      "metadata": {
        "colab": {
          "base_uri": "https://localhost:8080/"
        },
        "id": "er81saEfICgQ",
        "outputId": "db18183c-a6e8-4a92-96db-c63c4b0b4ccc"
      },
      "execution_count": null,
      "outputs": [
        {
          "output_type": "stream",
          "name": "stdout",
          "text": [
            "\u001b[34m\u001b[1mtrain: \u001b[0mweights=yolov5l.pt, cfg=, data=MOXA_FMD_colab.yaml, hyp=data/hyps/hyp.scratch-low.yaml, epochs=40, batch_size=16, imgsz=640, rect=False, resume=False, nosave=False, noval=False, noautoanchor=False, noplots=False, evolve=None, bucket=, cache=ram, image_weights=False, device=, multi_scale=False, single_cls=False, optimizer=Adam, sync_bn=False, workers=8, project=runs/train, name=exp, exist_ok=False, quad=False, cos_lr=False, label_smoothing=0.0, patience=100, freeze=[0], save_period=-1, seed=0, local_rank=-1, entity=None, upload_dataset=False, bbox_interval=-1, artifact_alias=latest\n",
            "\u001b[34m\u001b[1mgithub: \u001b[0m⚠️ YOLOv5 is out of date by 42 commits. Use `git pull` or `git clone https://github.com/ultralytics/yolov5` to update.\n",
            "YOLOv5 🚀 v6.2-77-g4a37381 Python-3.7.14 torch-1.12.1+cu113 CUDA:0 (Tesla T4, 15110MiB)\n",
            "\n",
            "\u001b[34m\u001b[1mhyperparameters: \u001b[0mlr0=0.01, lrf=0.01, momentum=0.937, weight_decay=0.0005, warmup_epochs=3.0, warmup_momentum=0.8, warmup_bias_lr=0.1, box=0.05, cls=0.5, cls_pw=1.0, obj=1.0, obj_pw=1.0, iou_t=0.2, anchor_t=4.0, fl_gamma=0.0, hsv_h=0.015, hsv_s=0.7, hsv_v=0.4, degrees=0.0, translate=0.1, scale=0.5, shear=0.0, perspective=0.0, flipud=0.0, fliplr=0.5, mosaic=1.0, mixup=0.0, copy_paste=0.0\n",
            "\u001b[34m\u001b[1mWeights & Biases: \u001b[0mrun 'pip install wandb' to automatically track and visualize YOLOv5 🚀 runs in Weights & Biases\n",
            "\u001b[34m\u001b[1mTensorBoard: \u001b[0mStart with 'tensorboard --logdir runs/train', view at http://localhost:6006/\n",
            "ClearML Task: created new task id=437c95ca5b2342debe95156d086e6370\n",
            "ClearML results page: https://app.clear.ml/projects/685bfc3c471342f4bc9714ba8b5cc976/experiments/437c95ca5b2342debe95156d086e6370/output/log\n",
            "Overriding model.yaml nc=80 with nc=2\n",
            "\n",
            "                 from  n    params  module                                  arguments                     \n",
            "  0                -1  1      7040  models.common.Conv                      [3, 64, 6, 2, 2]              \n",
            "  1                -1  1     73984  models.common.Conv                      [64, 128, 3, 2]               \n",
            "  2                -1  3    156928  models.common.C3                        [128, 128, 3]                 \n",
            "  3                -1  1    295424  models.common.Conv                      [128, 256, 3, 2]              \n",
            "  4                -1  6   1118208  models.common.C3                        [256, 256, 6]                 \n",
            "  5                -1  1   1180672  models.common.Conv                      [256, 512, 3, 2]              \n",
            "  6                -1  9   6433792  models.common.C3                        [512, 512, 9]                 \n",
            "  7                -1  1   4720640  models.common.Conv                      [512, 1024, 3, 2]             \n",
            "  8                -1  3   9971712  models.common.C3                        [1024, 1024, 3]               \n",
            "  9                -1  1   2624512  models.common.SPPF                      [1024, 1024, 5]               \n",
            " 10                -1  1    525312  models.common.Conv                      [1024, 512, 1, 1]             \n",
            " 11                -1  1         0  torch.nn.modules.upsampling.Upsample    [None, 2, 'nearest']          \n",
            " 12           [-1, 6]  1         0  models.common.Concat                    [1]                           \n",
            " 13                -1  3   2757632  models.common.C3                        [1024, 512, 3, False]         \n",
            " 14                -1  1    131584  models.common.Conv                      [512, 256, 1, 1]              \n",
            " 15                -1  1         0  torch.nn.modules.upsampling.Upsample    [None, 2, 'nearest']          \n",
            " 16           [-1, 4]  1         0  models.common.Concat                    [1]                           \n",
            " 17                -1  3    690688  models.common.C3                        [512, 256, 3, False]          \n",
            " 18                -1  1    590336  models.common.Conv                      [256, 256, 3, 2]              \n",
            " 19          [-1, 14]  1         0  models.common.Concat                    [1]                           \n",
            " 20                -1  3   2495488  models.common.C3                        [512, 512, 3, False]          \n",
            " 21                -1  1   2360320  models.common.Conv                      [512, 512, 3, 2]              \n",
            " 22          [-1, 10]  1         0  models.common.Concat                    [1]                           \n",
            " 23                -1  3   9971712  models.common.C3                        [1024, 1024, 3, False]        \n",
            " 24      [17, 20, 23]  1     37695  models.yolo.Detect                      [2, [[10, 13, 16, 30, 33, 23], [30, 61, 62, 45, 59, 119], [116, 90, 156, 198, 373, 326]], [256, 512, 1024]]\n",
            "Model summary: 468 layers, 46143679 parameters, 46143679 gradients, 108.2 GFLOPs\n",
            "\n",
            "Transferred 607/613 items from yolov5l.pt\n",
            "\u001b[34m\u001b[1mAMP: \u001b[0mchecks passed ✅\n",
            "\u001b[34m\u001b[1moptimizer:\u001b[0m Adam(lr=0.01) with parameter groups 101 weight(decay=0.0), 104 weight(decay=0.0005), 104 bias\n",
            "\u001b[34m\u001b[1malbumentations: \u001b[0mBlur(p=0.01, blur_limit=(3, 7)), MedianBlur(p=0.01, blur_limit=(3, 7)), ToGray(p=0.01), CLAHE(p=0.01, clip_limit=(1, 4.0), tile_grid_size=(8, 8))\n",
            "\u001b[34m\u001b[1mtrain: \u001b[0mScanning '/content/drive/MyDrive/YOLO/yolov5/data/Data/train.cache' images and labels... 3136 found, 0 missing, 0 empty, 0 corrupt: 100% 3136/3136 [00:00<?, ?it/s]\n",
            "\u001b[34m\u001b[1mtrain: \u001b[0mCaching images (2.6GB ram): 100% 3136/3136 [00:41<00:00, 75.52it/s]\n",
            "\u001b[34m\u001b[1mval: \u001b[0mScanning '/content/drive/MyDrive/YOLO/yolov5/data/Data/val.cache' images and labels... 392 found, 0 missing, 0 empty, 0 corrupt: 100% 392/392 [00:00<?, ?it/s]\n",
            "\u001b[34m\u001b[1mval: \u001b[0mCaching images (0.3GB ram): 100% 392/392 [00:08<00:00, 47.89it/s]\n",
            "\n",
            "\u001b[34m\u001b[1mAutoAnchor: \u001b[0m5.61 anchors/target, 1.000 Best Possible Recall (BPR). Current anchors are a good fit to dataset ✅\n",
            "Plotting labels to runs/train/exp7/labels.jpg... \n",
            "Image sizes 640 train, 640 val\n",
            "Using 2 dataloader workers\n",
            "Logging results to \u001b[1mruns/train/exp7\u001b[0m\n",
            "Starting training for 40 epochs...\n",
            "\n",
            "      Epoch    GPU_mem   box_loss   obj_loss   cls_loss  Instances       Size\n",
            "       0/39      10.1G    0.06592    0.05057    0.01679         70        640: 100% 196/196 [02:04<00:00,  1.57it/s]\n",
            "                 Class     Images  Instances          P          R     mAP@.5 mAP@.5:.95: 100% 13/13 [00:10<00:00,  1.21it/s]\n",
            "                   all        392       1540      0.169       0.18     0.0988     0.0311\n",
            "\n",
            "      Epoch    GPU_mem   box_loss   obj_loss   cls_loss  Instances       Size\n",
            "       1/39      13.2G    0.06187    0.04855     0.0114        110        640: 100% 196/196 [02:03<00:00,  1.59it/s]\n",
            "                 Class     Images  Instances          P          R     mAP@.5 mAP@.5:.95: 100% 13/13 [00:06<00:00,  1.90it/s]\n",
            "                   all        392       1540      0.466      0.418      0.388      0.138\n",
            "\n",
            "      Epoch    GPU_mem   box_loss   obj_loss   cls_loss  Instances       Size\n",
            "       2/39      13.2G    0.06045    0.04958    0.01053        131        640: 100% 196/196 [02:04<00:00,  1.57it/s]\n",
            "                 Class     Images  Instances          P          R     mAP@.5 mAP@.5:.95: 100% 13/13 [00:07<00:00,  1.63it/s]\n",
            "                   all        392       1540      0.414      0.441      0.389      0.119\n",
            "\n",
            "      Epoch    GPU_mem   box_loss   obj_loss   cls_loss  Instances       Size\n",
            "       3/39      13.2G    0.05793    0.04943   0.009525        235        640: 100% 196/196 [02:03<00:00,  1.59it/s]\n",
            "                 Class     Images  Instances          P          R     mAP@.5 mAP@.5:.95: 100% 13/13 [00:06<00:00,  2.12it/s]\n",
            "                   all        392       1540      0.696      0.448      0.537      0.196\n",
            "\n",
            "      Epoch    GPU_mem   box_loss   obj_loss   cls_loss  Instances       Size\n",
            "       4/39      13.2G    0.05491     0.0474   0.009193        132        640: 100% 196/196 [02:03<00:00,  1.58it/s]\n",
            "                 Class     Images  Instances          P          R     mAP@.5 mAP@.5:.95: 100% 13/13 [00:09<00:00,  1.33it/s]\n",
            "                   all        392       1540     0.0221      0.639     0.0183    0.00732\n",
            "\n",
            "      Epoch    GPU_mem   box_loss   obj_loss   cls_loss  Instances       Size\n",
            "       5/39      13.2G    0.05431    0.04708   0.008432         90        640: 100% 196/196 [02:03<00:00,  1.59it/s]\n",
            "                 Class     Images  Instances          P          R     mAP@.5 mAP@.5:.95: 100% 13/13 [00:05<00:00,  2.17it/s]\n",
            "                   all        392       1540      0.675      0.487       0.55      0.203\n",
            "\n",
            "      Epoch    GPU_mem   box_loss   obj_loss   cls_loss  Instances       Size\n",
            "       6/39      13.2G    0.05415    0.04762   0.008431        166        640: 100% 196/196 [02:03<00:00,  1.58it/s]\n",
            "                 Class     Images  Instances          P          R     mAP@.5 mAP@.5:.95: 100% 13/13 [00:06<00:00,  2.13it/s]\n",
            "                   all        392       1540      0.453      0.508      0.399      0.139\n",
            "\n",
            "      Epoch    GPU_mem   box_loss   obj_loss   cls_loss  Instances       Size\n",
            "       7/39      13.2G    0.05201    0.04674   0.008167        110        640: 100% 196/196 [02:02<00:00,  1.60it/s]\n",
            "                 Class     Images  Instances          P          R     mAP@.5 mAP@.5:.95: 100% 13/13 [00:05<00:00,  2.18it/s]\n",
            "                   all        392       1540      0.662      0.528      0.579      0.218\n",
            "\n",
            "      Epoch    GPU_mem   box_loss   obj_loss   cls_loss  Instances       Size\n",
            "       8/39      13.2G    0.05353    0.04647   0.007735        117        640: 100% 196/196 [02:04<00:00,  1.58it/s]\n",
            "                 Class     Images  Instances          P          R     mAP@.5 mAP@.5:.95: 100% 13/13 [00:06<00:00,  2.15it/s]\n",
            "                   all        392       1540      0.586      0.511      0.502      0.181\n",
            "\n",
            "      Epoch    GPU_mem   box_loss   obj_loss   cls_loss  Instances       Size\n",
            "       9/39      13.2G    0.05228    0.04641   0.008053         88        640: 100% 196/196 [02:02<00:00,  1.60it/s]\n",
            "                 Class     Images  Instances          P          R     mAP@.5 mAP@.5:.95: 100% 13/13 [00:06<00:00,  2.15it/s]\n",
            "                   all        392       1540      0.691      0.577       0.61      0.221\n",
            "\n",
            "      Epoch    GPU_mem   box_loss   obj_loss   cls_loss  Instances       Size\n",
            "      10/39      13.2G    0.05168    0.04639   0.007567        150        640: 100% 196/196 [02:03<00:00,  1.59it/s]\n",
            "                 Class     Images  Instances          P          R     mAP@.5 mAP@.5:.95: 100% 13/13 [00:06<00:00,  2.03it/s]\n",
            "                   all        392       1540      0.479      0.483      0.366      0.121\n",
            "\n",
            "      Epoch    GPU_mem   box_loss   obj_loss   cls_loss  Instances       Size\n",
            "      11/39      13.2G    0.05151    0.04569   0.007823        120        640: 100% 196/196 [02:01<00:00,  1.61it/s]\n",
            "                 Class     Images  Instances          P          R     mAP@.5 mAP@.5:.95: 100% 13/13 [00:05<00:00,  2.17it/s]\n",
            "                   all        392       1540      0.726      0.564      0.639       0.24\n",
            "\n",
            "      Epoch    GPU_mem   box_loss   obj_loss   cls_loss  Instances       Size\n",
            "      12/39      13.2G    0.05036    0.04526   0.007506         82        640: 100% 196/196 [02:02<00:00,  1.59it/s]\n",
            "                 Class     Images  Instances          P          R     mAP@.5 mAP@.5:.95: 100% 13/13 [00:06<00:00,  2.08it/s]\n",
            "                   all        392       1540      0.646       0.56      0.569      0.197\n",
            "\n",
            "      Epoch    GPU_mem   box_loss   obj_loss   cls_loss  Instances       Size\n",
            "      13/39      13.2G    0.04978    0.04454    0.00722        137        640: 100% 196/196 [02:01<00:00,  1.61it/s]\n",
            "                 Class     Images  Instances          P          R     mAP@.5 mAP@.5:.95: 100% 13/13 [00:06<00:00,  2.10it/s]\n",
            "                   all        392       1540      0.728      0.619      0.664      0.248\n",
            "\n",
            "      Epoch    GPU_mem   box_loss   obj_loss   cls_loss  Instances       Size\n",
            "      14/39      13.2G    0.05111    0.04608   0.007426        119        640: 100% 196/196 [02:03<00:00,  1.58it/s]\n",
            "                 Class     Images  Instances          P          R     mAP@.5 mAP@.5:.95: 100% 13/13 [00:05<00:00,  2.17it/s]\n",
            "                   all        392       1540      0.734      0.604      0.656      0.257\n",
            "\n",
            "      Epoch    GPU_mem   box_loss   obj_loss   cls_loss  Instances       Size\n",
            "      15/39      13.2G    0.05022    0.04511   0.006726        124        640: 100% 196/196 [02:02<00:00,  1.60it/s]\n",
            "                 Class     Images  Instances          P          R     mAP@.5 mAP@.5:.95: 100% 13/13 [00:05<00:00,  2.19it/s]\n",
            "                   all        392       1540      0.719      0.593      0.632      0.241\n",
            "\n",
            "      Epoch    GPU_mem   box_loss   obj_loss   cls_loss  Instances       Size\n",
            "      16/39      13.2G     0.0492    0.04529   0.006899        174        640: 100% 196/196 [02:02<00:00,  1.61it/s]\n",
            "                 Class     Images  Instances          P          R     mAP@.5 mAP@.5:.95: 100% 13/13 [00:05<00:00,  2.19it/s]\n",
            "                   all        392       1540      0.795      0.609      0.707      0.272\n",
            "\n",
            "      Epoch    GPU_mem   box_loss   obj_loss   cls_loss  Instances       Size\n",
            "      17/39      13.2G    0.04992    0.04565   0.007108        137        640: 100% 196/196 [02:03<00:00,  1.59it/s]\n",
            "                 Class     Images  Instances          P          R     mAP@.5 mAP@.5:.95: 100% 13/13 [00:06<00:00,  2.16it/s]\n",
            "                   all        392       1540      0.715      0.558      0.618      0.217\n",
            "\n",
            "      Epoch    GPU_mem   box_loss   obj_loss   cls_loss  Instances       Size\n",
            "      18/39      13.2G    0.04872     0.0445   0.006684        156        640: 100% 196/196 [02:02<00:00,  1.61it/s]\n",
            "                 Class     Images  Instances          P          R     mAP@.5 mAP@.5:.95: 100% 13/13 [00:06<00:00,  2.12it/s]\n",
            "                   all        392       1540      0.742      0.621      0.685      0.269\n",
            "\n",
            "      Epoch    GPU_mem   box_loss   obj_loss   cls_loss  Instances       Size\n",
            "      19/39      13.2G    0.04814    0.04489   0.006372        133        640: 100% 196/196 [02:01<00:00,  1.61it/s]\n",
            "                 Class     Images  Instances          P          R     mAP@.5 mAP@.5:.95: 100% 13/13 [00:06<00:00,  2.10it/s]\n",
            "                   all        392       1540      0.811        0.6      0.684      0.276\n",
            "\n",
            "      Epoch    GPU_mem   box_loss   obj_loss   cls_loss  Instances       Size\n",
            "      20/39      13.2G    0.04833    0.04479   0.006607        108        640: 100% 196/196 [02:03<00:00,  1.59it/s]\n",
            "                 Class     Images  Instances          P          R     mAP@.5 mAP@.5:.95: 100% 13/13 [00:06<00:00,  2.16it/s]\n",
            "                   all        392       1540      0.715       0.65      0.683      0.267\n",
            "\n",
            "      Epoch    GPU_mem   box_loss   obj_loss   cls_loss  Instances       Size\n",
            "      21/39      13.2G    0.04753    0.04445   0.006392        134        640: 100% 196/196 [02:01<00:00,  1.61it/s]\n",
            "                 Class     Images  Instances          P          R     mAP@.5 mAP@.5:.95: 100% 13/13 [00:05<00:00,  2.17it/s]\n",
            "                   all        392       1540      0.741      0.591      0.662      0.262\n",
            "\n",
            "      Epoch    GPU_mem   box_loss   obj_loss   cls_loss  Instances       Size\n",
            "      22/39      13.2G    0.04757     0.0435   0.006459        138        640: 100% 196/196 [02:02<00:00,  1.60it/s]\n",
            "                 Class     Images  Instances          P          R     mAP@.5 mAP@.5:.95: 100% 13/13 [00:06<00:00,  2.09it/s]\n",
            "                   all        392       1540      0.738      0.654      0.709      0.277\n",
            "\n",
            "      Epoch    GPU_mem   box_loss   obj_loss   cls_loss  Instances       Size\n",
            "      23/39      13.2G    0.04733    0.04368   0.006403        193        640: 100% 196/196 [02:03<00:00,  1.59it/s]\n",
            "                 Class     Images  Instances          P          R     mAP@.5 mAP@.5:.95: 100% 13/13 [00:06<00:00,  2.13it/s]\n",
            "                   all        392       1540      0.782      0.678      0.745      0.307\n",
            "\n",
            "      Epoch    GPU_mem   box_loss   obj_loss   cls_loss  Instances       Size\n",
            "      24/39      13.2G    0.04661     0.0436   0.006703         94        640: 100% 196/196 [02:02<00:00,  1.59it/s]\n",
            "                 Class     Images  Instances          P          R     mAP@.5 mAP@.5:.95: 100% 13/13 [00:05<00:00,  2.21it/s]\n",
            "                   all        392       1540      0.785      0.627      0.695      0.271\n",
            "\n",
            "      Epoch    GPU_mem   box_loss   obj_loss   cls_loss  Instances       Size\n",
            "      25/39      13.2G    0.04699     0.0432   0.006155         92        640: 100% 196/196 [02:01<00:00,  1.61it/s]\n",
            "                 Class     Images  Instances          P          R     mAP@.5 mAP@.5:.95: 100% 13/13 [00:05<00:00,  2.20it/s]\n",
            "                   all        392       1540      0.781      0.698      0.747      0.306\n",
            "\n",
            "      Epoch    GPU_mem   box_loss   obj_loss   cls_loss  Instances       Size\n",
            "      26/39      13.2G    0.04588    0.04298   0.005903        154        640: 100% 196/196 [02:02<00:00,  1.61it/s]\n",
            "                 Class     Images  Instances          P          R     mAP@.5 mAP@.5:.95: 100% 13/13 [00:06<00:00,  2.16it/s]\n",
            "                   all        392       1540      0.802      0.695      0.765       0.31\n",
            "\n",
            "      Epoch    GPU_mem   box_loss   obj_loss   cls_loss  Instances       Size\n",
            "      27/39      13.2G    0.04555    0.04284     0.0059        140        640: 100% 196/196 [02:02<00:00,  1.60it/s]\n",
            "                 Class     Images  Instances          P          R     mAP@.5 mAP@.5:.95: 100% 13/13 [00:05<00:00,  2.18it/s]\n",
            "                   all        392       1540      0.804      0.705      0.763      0.313\n",
            "\n",
            "      Epoch    GPU_mem   box_loss   obj_loss   cls_loss  Instances       Size\n",
            "      28/39      13.2G    0.04557    0.04336   0.005801         81        640: 100% 196/196 [02:02<00:00,  1.59it/s]\n",
            "                 Class     Images  Instances          P          R     mAP@.5 mAP@.5:.95: 100% 13/13 [00:05<00:00,  2.17it/s]\n",
            "                   all        392       1540      0.798      0.695       0.75      0.312\n",
            "\n",
            "      Epoch    GPU_mem   box_loss   obj_loss   cls_loss  Instances       Size\n",
            "      29/39      13.2G    0.04527    0.04245   0.005733         75        640: 100% 196/196 [02:01<00:00,  1.61it/s]\n",
            "                 Class     Images  Instances          P          R     mAP@.5 mAP@.5:.95: 100% 13/13 [00:06<00:00,  1.98it/s]\n",
            "                   all        392       1540      0.788      0.703      0.745      0.313\n",
            "\n",
            "      Epoch    GPU_mem   box_loss   obj_loss   cls_loss  Instances       Size\n",
            "      30/39      13.2G    0.04457    0.04234   0.005511        121        640: 100% 196/196 [02:01<00:00,  1.61it/s]\n",
            "                 Class     Images  Instances          P          R     mAP@.5 mAP@.5:.95: 100% 13/13 [00:06<00:00,  2.16it/s]\n",
            "                   all        392       1540      0.776      0.682      0.734      0.314\n",
            "\n",
            "      Epoch    GPU_mem   box_loss   obj_loss   cls_loss  Instances       Size\n",
            "      31/39      13.2G    0.04469    0.04228    0.00558        127        640: 100% 196/196 [02:02<00:00,  1.61it/s]\n",
            "                 Class     Images  Instances          P          R     mAP@.5 mAP@.5:.95: 100% 13/13 [00:05<00:00,  2.18it/s]\n",
            "                   all        392       1540      0.806      0.737      0.796      0.348\n",
            "\n",
            "      Epoch    GPU_mem   box_loss   obj_loss   cls_loss  Instances       Size\n",
            "      32/39      13.2G    0.04436    0.04215   0.005334        145        640: 100% 196/196 [02:03<00:00,  1.59it/s]\n",
            "                 Class     Images  Instances          P          R     mAP@.5 mAP@.5:.95: 100% 13/13 [00:05<00:00,  2.18it/s]\n",
            "                   all        392       1540      0.779       0.73      0.778      0.328\n",
            "\n",
            "      Epoch    GPU_mem   box_loss   obj_loss   cls_loss  Instances       Size\n",
            "      33/39      13.2G     0.0439    0.04113   0.004923        101        640: 100% 196/196 [02:02<00:00,  1.61it/s]\n",
            "                 Class     Images  Instances          P          R     mAP@.5 mAP@.5:.95: 100% 13/13 [00:06<00:00,  2.15it/s]\n",
            "                   all        392       1540      0.784      0.727      0.766      0.324\n",
            "\n",
            "      Epoch    GPU_mem   box_loss   obj_loss   cls_loss  Instances       Size\n",
            "      34/39      13.2G    0.04386    0.04173    0.00508        123        640: 100% 196/196 [02:01<00:00,  1.61it/s]\n",
            "                 Class     Images  Instances          P          R     mAP@.5 mAP@.5:.95: 100% 13/13 [00:06<00:00,  1.96it/s]\n",
            "                   all        392       1540      0.821      0.722      0.787      0.335\n",
            "\n",
            "      Epoch    GPU_mem   box_loss   obj_loss   cls_loss  Instances       Size\n",
            "      35/39      13.2G    0.04313    0.04119   0.004959        169        640: 100% 196/196 [02:01<00:00,  1.61it/s]\n",
            "                 Class     Images  Instances          P          R     mAP@.5 mAP@.5:.95: 100% 13/13 [00:05<00:00,  2.18it/s]\n",
            "                   all        392       1540      0.815      0.739      0.799      0.364\n",
            "\n",
            "      Epoch    GPU_mem   box_loss   obj_loss   cls_loss  Instances       Size\n",
            "      36/39      13.2G    0.04282    0.04011   0.004863        143        640: 100% 196/196 [02:02<00:00,  1.60it/s]\n",
            "                 Class     Images  Instances          P          R     mAP@.5 mAP@.5:.95: 100% 13/13 [00:05<00:00,  2.21it/s]\n",
            "                   all        392       1540      0.834      0.754      0.812      0.361\n",
            "\n",
            "      Epoch    GPU_mem   box_loss   obj_loss   cls_loss  Instances       Size\n",
            "      37/39      13.2G    0.04203    0.03942   0.004528        120        640: 100% 196/196 [02:01<00:00,  1.61it/s]\n",
            "                 Class     Images  Instances          P          R     mAP@.5 mAP@.5:.95: 100% 13/13 [00:05<00:00,  2.21it/s]\n",
            "                   all        392       1540      0.794      0.769      0.794      0.358\n",
            "\n",
            "      Epoch    GPU_mem   box_loss   obj_loss   cls_loss  Instances       Size\n",
            "      38/39      13.2G    0.04148    0.03893    0.00449        110        640: 100% 196/196 [02:01<00:00,  1.61it/s]\n",
            "                 Class     Images  Instances          P          R     mAP@.5 mAP@.5:.95: 100% 13/13 [00:05<00:00,  2.17it/s]\n",
            "                   all        392       1540      0.807      0.776      0.799      0.349\n",
            "\n",
            "      Epoch    GPU_mem   box_loss   obj_loss   cls_loss  Instances       Size\n",
            "      39/39      13.2G    0.04095    0.03937   0.004201        164        640: 100% 196/196 [02:01<00:00,  1.61it/s]\n",
            "                 Class     Images  Instances          P          R     mAP@.5 mAP@.5:.95: 100% 13/13 [00:05<00:00,  2.17it/s]\n",
            "                   all        392       1540      0.825      0.776      0.815      0.376\n",
            "\n",
            "40 epochs completed in 1.476 hours.\n",
            "Optimizer stripped from runs/train/exp7/weights/last.pt, 92.8MB\n",
            "Optimizer stripped from runs/train/exp7/weights/best.pt, 92.8MB\n",
            "\n",
            "Validating runs/train/exp7/weights/best.pt...\n",
            "Fusing layers... \n",
            "Model summary: 367 layers, 46113663 parameters, 0 gradients, 107.7 GFLOPs\n",
            "                 Class     Images  Instances          P          R     mAP@.5 mAP@.5:.95: 100% 13/13 [00:08<00:00,  1.56it/s]\n",
            "                   all        392       1540      0.824      0.776      0.815      0.376\n",
            "               no_mask        392        341      0.776      0.721      0.749      0.344\n",
            "                  mask        392       1199      0.871      0.831      0.881      0.408\n",
            "Results saved to \u001b[1mruns/train/exp7\u001b[0m\n",
            "2022-09-16 13:19:15,302 - clearml.Task - INFO - Waiting to finish uploads\n",
            "2022-09-16 13:19:16,816 - clearml.Task - INFO - Completed model upload to https://files.clear.ml/YOLOv5/training.437c95ca5b2342debe95156d086e6370/models/best.pt\n",
            "2022-09-16 13:19:21,512 - clearml.Task - INFO - Finished uploading\n"
          ]
        }
      ]
    },
    {
      "cell_type": "markdown",
      "source": [
        "# Testing"
      ],
      "metadata": {
        "id": "0AFphfOskZUU"
      }
    },
    {
      "cell_type": "markdown",
      "source": [
        "## Testing the model trained with SGD optimizer"
      ],
      "metadata": {
        "id": "-m_bEDrmEtHw"
      }
    },
    {
      "cell_type": "markdown",
      "source": [
        "### Weights from epoch 5"
      ],
      "metadata": {
        "id": "H5U5nmykgGk6"
      }
    },
    {
      "cell_type": "code",
      "source": [
        "!python val.py --weights runs/train/exp8/weights/epoch5.pt --data MOXA_FMD_colab.yaml --img 640 --task test --batch-size 1"
      ],
      "metadata": {
        "colab": {
          "base_uri": "https://localhost:8080/"
        },
        "id": "_ZWEuY0pD5Rs",
        "outputId": "aaf3c231-78cf-4067-9737-b8e33a3db010"
      },
      "execution_count": null,
      "outputs": [
        {
          "output_type": "stream",
          "name": "stdout",
          "text": [
            "\u001b[34m\u001b[1mval: \u001b[0mdata=/content/drive/MyDrive/YOLO/yolov5/data/MOXA_FMD_colab.yaml, weights=['runs/train/exp8/weights/epoch5.pt'], batch_size=1, imgsz=640, conf_thres=0.001, iou_thres=0.6, task=test, device=, workers=8, single_cls=False, augment=False, verbose=False, save_txt=False, save_hybrid=False, save_conf=False, save_json=False, project=runs/val, name=exp, exist_ok=False, half=False, dnn=False\n",
            "YOLOv5 🚀 v6.2-77-g4a37381 Python-3.7.14 torch-1.12.1+cu113 CUDA:0 (Tesla T4, 15110MiB)\n",
            "\n",
            "Fusing layers... \n",
            "Model summary: 367 layers, 46113663 parameters, 0 gradients, 107.7 GFLOPs\n",
            "\u001b[34m\u001b[1mtest: \u001b[0mScanning '/content/drive/MyDrive/YOLO/yolov5/data/Data/test.cache' images and labels... 392 found, 0 missing, 0 empty, 0 corrupt: 100% 392/392 [00:00<?, ?it/s]\n",
            "                 Class     Images  Instances          P          R     mAP@.5 mAP@.5:.95: 100% 392/392 [00:18<00:00, 20.89it/s]\n",
            "                   all        392       1807      0.642      0.496      0.535      0.193\n",
            "               no_mask        392        465      0.536      0.454      0.436      0.149\n",
            "                  mask        392       1342      0.748      0.537      0.634      0.238\n",
            "Speed: 0.2ms pre-process, 22.4ms inference, 1.0ms NMS per image at shape (1, 3, 640, 640)\n",
            "Results saved to \u001b[1mruns/val/exp22\u001b[0m\n"
          ]
        }
      ]
    },
    {
      "cell_type": "markdown",
      "source": [
        "### Weights from epoch 10"
      ],
      "metadata": {
        "id": "LqriaWOrgLef"
      }
    },
    {
      "cell_type": "code",
      "source": [
        "!python val.py --weights runs/train/exp8/weights/epoch10.pt --data MOXA_FMD_colab.yaml --img 640 --task test --batch-size 1"
      ],
      "metadata": {
        "colab": {
          "base_uri": "https://localhost:8080/"
        },
        "id": "ikPOUM4MEX5T",
        "outputId": "67858516-73f2-45df-83c0-662afe3bedb5"
      },
      "execution_count": null,
      "outputs": [
        {
          "output_type": "stream",
          "name": "stdout",
          "text": [
            "\u001b[34m\u001b[1mval: \u001b[0mdata=/content/drive/MyDrive/YOLO/yolov5/data/MOXA_FMD_colab.yaml, weights=['runs/train/exp8/weights/epoch10.pt'], batch_size=1, imgsz=640, conf_thres=0.001, iou_thres=0.6, task=test, device=, workers=8, single_cls=False, augment=False, verbose=False, save_txt=False, save_hybrid=False, save_conf=False, save_json=False, project=runs/val, name=exp, exist_ok=False, half=False, dnn=False\n",
            "YOLOv5 🚀 v6.2-77-g4a37381 Python-3.7.14 torch-1.12.1+cu113 CUDA:0 (Tesla T4, 15110MiB)\n",
            "\n",
            "Fusing layers... \n",
            "Model summary: 367 layers, 46113663 parameters, 0 gradients, 107.7 GFLOPs\n",
            "\u001b[34m\u001b[1mtest: \u001b[0mScanning '/content/drive/MyDrive/YOLO/yolov5/data/Data/test.cache' images and labels... 392 found, 0 missing, 0 empty, 0 corrupt: 100% 392/392 [00:00<?, ?it/s]\n",
            "                 Class     Images  Instances          P          R     mAP@.5 mAP@.5:.95: 100% 392/392 [00:17<00:00, 22.09it/s]\n",
            "                   all        392       1807       0.72       0.58      0.616      0.221\n",
            "               no_mask        392        465      0.737      0.469      0.564      0.187\n",
            "                  mask        392       1342      0.704      0.691      0.667      0.254\n",
            "Speed: 0.2ms pre-process, 22.6ms inference, 1.1ms NMS per image at shape (1, 3, 640, 640)\n",
            "Results saved to \u001b[1mruns/val/exp23\u001b[0m\n"
          ]
        }
      ]
    },
    {
      "cell_type": "markdown",
      "source": [
        "### Weights from epoch 15"
      ],
      "metadata": {
        "id": "8QxLyZJ-gMg5"
      }
    },
    {
      "cell_type": "code",
      "source": [
        "!python val.py --weights runs/train/exp8/weights/epoch15.pt --data MOXA_FMD_colab.yaml --img 640 --task test --batch-size 1"
      ],
      "metadata": {
        "colab": {
          "base_uri": "https://localhost:8080/"
        },
        "id": "SJKB0v2nEYaq",
        "outputId": "a418385c-3ce4-4a6a-fe76-b12ffb3f1264"
      },
      "execution_count": null,
      "outputs": [
        {
          "output_type": "stream",
          "name": "stdout",
          "text": [
            "\u001b[34m\u001b[1mval: \u001b[0mdata=/content/drive/MyDrive/YOLO/yolov5/data/MOXA_FMD_colab.yaml, weights=['runs/train/exp8/weights/epoch15.pt'], batch_size=1, imgsz=640, conf_thres=0.001, iou_thres=0.6, task=test, device=, workers=8, single_cls=False, augment=False, verbose=False, save_txt=False, save_hybrid=False, save_conf=False, save_json=False, project=runs/val, name=exp, exist_ok=False, half=False, dnn=False\n",
            "YOLOv5 🚀 v6.2-77-g4a37381 Python-3.7.14 torch-1.12.1+cu113 CUDA:0 (Tesla T4, 15110MiB)\n",
            "\n",
            "Fusing layers... \n",
            "Model summary: 367 layers, 46113663 parameters, 0 gradients, 107.7 GFLOPs\n",
            "\u001b[34m\u001b[1mtest: \u001b[0mScanning '/content/drive/MyDrive/YOLO/yolov5/data/Data/test.cache' images and labels... 392 found, 0 missing, 0 empty, 0 corrupt: 100% 392/392 [00:00<?, ?it/s]\n",
            "                 Class     Images  Instances          P          R     mAP@.5 mAP@.5:.95: 100% 392/392 [00:17<00:00, 21.98it/s]\n",
            "                   all        392       1807      0.717      0.611      0.666      0.255\n",
            "               no_mask        392        465      0.706      0.496      0.563      0.196\n",
            "                  mask        392       1342      0.729      0.726       0.77      0.313\n",
            "Speed: 0.3ms pre-process, 22.7ms inference, 0.9ms NMS per image at shape (1, 3, 640, 640)\n",
            "Results saved to \u001b[1mruns/val/exp24\u001b[0m\n"
          ]
        }
      ]
    },
    {
      "cell_type": "markdown",
      "source": [
        "### Weights from epoch 20"
      ],
      "metadata": {
        "id": "Nqdgq1BrgNxM"
      }
    },
    {
      "cell_type": "code",
      "source": [
        "!python val.py --weights runs/train/exp8/weights/last.pt --data MOXA_FMD_colab.yaml --img 640 --task test --batch-size 1"
      ],
      "metadata": {
        "colab": {
          "base_uri": "https://localhost:8080/"
        },
        "id": "CvkGCLAfEYyu",
        "outputId": "d0707684-b98f-4eec-86a1-06e226b14487"
      },
      "execution_count": null,
      "outputs": [
        {
          "output_type": "stream",
          "name": "stdout",
          "text": [
            "\u001b[34m\u001b[1mval: \u001b[0mdata=/content/drive/MyDrive/YOLO/yolov5/data/MOXA_FMD_colab.yaml, weights=['runs/train/exp8/weights/last.pt'], batch_size=1, imgsz=640, conf_thres=0.001, iou_thres=0.6, task=test, device=, workers=8, single_cls=False, augment=False, verbose=False, save_txt=False, save_hybrid=False, save_conf=False, save_json=False, project=runs/val, name=exp, exist_ok=False, half=False, dnn=False\n",
            "YOLOv5 🚀 v6.2-77-g4a37381 Python-3.7.14 torch-1.12.1+cu113 CUDA:0 (Tesla T4, 15110MiB)\n",
            "\n",
            "Fusing layers... \n",
            "Model summary: 367 layers, 46113663 parameters, 0 gradients, 107.7 GFLOPs\n",
            "\u001b[34m\u001b[1mtest: \u001b[0mScanning '/content/drive/MyDrive/YOLO/yolov5/data/Data/test.cache' images and labels... 392 found, 0 missing, 0 empty, 0 corrupt: 100% 392/392 [00:00<?, ?it/s]\n",
            "                 Class     Images  Instances          P          R     mAP@.5 mAP@.5:.95: 100% 392/392 [00:18<00:00, 21.52it/s]\n",
            "                   all        392       1807      0.726      0.703      0.718      0.282\n",
            "               no_mask        392        465      0.677       0.63      0.646      0.219\n",
            "                  mask        392       1342      0.776      0.776      0.789      0.346\n",
            "Speed: 0.2ms pre-process, 22.8ms inference, 1.0ms NMS per image at shape (1, 3, 640, 640)\n",
            "Results saved to \u001b[1mruns/val/exp25\u001b[0m\n"
          ]
        }
      ]
    },
    {
      "cell_type": "markdown",
      "source": [
        "## Testing the model trained with ADAM optimizer"
      ],
      "metadata": {
        "id": "pDbqvS7zEw07"
      }
    },
    {
      "cell_type": "markdown",
      "source": [
        "### Weights from epoch 5"
      ],
      "metadata": {
        "id": "3ib9RBslgPK4"
      }
    },
    {
      "cell_type": "code",
      "source": [
        "!python val.py --weights runs/train/exp6/weights/epoch5.pt --data MOXA_FMD_colab.yaml --img 640 --task test --batch-size 1"
      ],
      "metadata": {
        "colab": {
          "base_uri": "https://localhost:8080/"
        },
        "id": "91cO9KgvEZWU",
        "outputId": "a325b8e6-242b-4d2d-9ebb-140c6066f802"
      },
      "execution_count": null,
      "outputs": [
        {
          "output_type": "stream",
          "name": "stdout",
          "text": [
            "\u001b[34m\u001b[1mval: \u001b[0mdata=/content/drive/MyDrive/YOLO/yolov5/data/MOXA_FMD_colab.yaml, weights=['runs/train/exp6/weights/epoch5.pt'], batch_size=1, imgsz=640, conf_thres=0.001, iou_thres=0.6, task=test, device=, workers=8, single_cls=False, augment=False, verbose=False, save_txt=False, save_hybrid=False, save_conf=False, save_json=False, project=runs/val, name=exp, exist_ok=False, half=False, dnn=False\n",
            "YOLOv5 🚀 v6.2-77-g4a37381 Python-3.7.14 torch-1.12.1+cu113 CUDA:0 (Tesla T4, 15110MiB)\n",
            "\n",
            "Fusing layers... \n",
            "Model summary: 367 layers, 46113663 parameters, 0 gradients\n",
            "\u001b[34m\u001b[1mtest: \u001b[0mScanning '/content/drive/MyDrive/YOLO/yolov5/data/Data/test' images and labels...392 found, 0 missing, 0 empty, 0 corrupt: 100% 392/392 [00:01<00:00, 291.42it/s]\n",
            "\u001b[34m\u001b[1mtest: \u001b[0mNew cache created: /content/drive/MyDrive/YOLO/yolov5/data/Data/test.cache\n",
            "                 Class     Images  Instances          P          R     mAP@.5 mAP@.5:.95: 100% 392/392 [00:19<00:00, 20.34it/s]\n",
            "                   all        392       1807      0.642      0.496      0.535      0.193\n",
            "               no_mask        392        465      0.536      0.454      0.436      0.149\n",
            "                  mask        392       1342      0.748      0.537      0.634      0.238\n",
            "Speed: 0.3ms pre-process, 21.5ms inference, 1.1ms NMS per image at shape (1, 3, 640, 640)\n",
            "Results saved to \u001b[1mruns/val/exp17\u001b[0m\n"
          ]
        }
      ]
    },
    {
      "cell_type": "markdown",
      "source": [
        "### Weights from epoch 10"
      ],
      "metadata": {
        "id": "5y11tfepgQHE"
      }
    },
    {
      "cell_type": "code",
      "source": [
        "!python val.py --weights runs/train/exp6/weights/epoch10.pt --data MOXA_FMD_colab.yaml --img 640 --task test --batch-size 1"
      ],
      "metadata": {
        "colab": {
          "base_uri": "https://localhost:8080/"
        },
        "id": "JxHI6nVbEZsa",
        "outputId": "ddea5aa2-2ad7-4c06-ec35-912d3785c8e2"
      },
      "execution_count": null,
      "outputs": [
        {
          "output_type": "stream",
          "name": "stdout",
          "text": [
            "\u001b[34m\u001b[1mval: \u001b[0mdata=/content/drive/MyDrive/YOLO/yolov5/data/MOXA_FMD_colab.yaml, weights=['runs/train/exp6/weights/epoch10.pt'], batch_size=1, imgsz=640, conf_thres=0.001, iou_thres=0.6, task=test, device=, workers=8, single_cls=False, augment=False, verbose=False, save_txt=False, save_hybrid=False, save_conf=False, save_json=False, project=runs/val, name=exp, exist_ok=False, half=False, dnn=False\n",
            "YOLOv5 🚀 v6.2-77-g4a37381 Python-3.7.14 torch-1.12.1+cu113 CUDA:0 (Tesla T4, 15110MiB)\n",
            "\n",
            "Fusing layers... \n",
            "Model summary: 367 layers, 46113663 parameters, 0 gradients\n",
            "\u001b[34m\u001b[1mtest: \u001b[0mScanning '/content/drive/MyDrive/YOLO/yolov5/data/Data/test.cache' images and labels... 392 found, 0 missing, 0 empty, 0 corrupt: 100% 392/392 [00:00<?, ?it/s]\n",
            "                 Class     Images  Instances          P          R     mAP@.5 mAP@.5:.95: 100% 392/392 [00:17<00:00, 22.61it/s]\n",
            "                   all        392       1807       0.72       0.58      0.616      0.221\n",
            "               no_mask        392        465      0.737      0.469      0.564      0.187\n",
            "                  mask        392       1342      0.704      0.691      0.667      0.254\n",
            "Speed: 0.2ms pre-process, 21.7ms inference, 1.1ms NMS per image at shape (1, 3, 640, 640)\n",
            "Results saved to \u001b[1mruns/val/exp18\u001b[0m\n"
          ]
        }
      ]
    },
    {
      "cell_type": "markdown",
      "source": [
        "### Weights from epoch 15"
      ],
      "metadata": {
        "id": "hVvEqAHegRNX"
      }
    },
    {
      "cell_type": "code",
      "source": [
        "!python val.py --weights runs/train/exp6/weights/epoch15.pt --data MOXA_FMD_colab.yaml --img 640 --task test --batch-size 1"
      ],
      "metadata": {
        "colab": {
          "base_uri": "https://localhost:8080/"
        },
        "id": "xxhmyx-yEaFq",
        "outputId": "222bea33-5d62-446f-c733-5bf7fa9e4a9c"
      },
      "execution_count": null,
      "outputs": [
        {
          "output_type": "stream",
          "name": "stdout",
          "text": [
            "\u001b[34m\u001b[1mval: \u001b[0mdata=/content/drive/MyDrive/YOLO/yolov5/data/MOXA_FMD_colab.yaml, weights=['runs/train/exp6/weights/epoch15.pt'], batch_size=1, imgsz=640, conf_thres=0.001, iou_thres=0.6, task=test, device=, workers=8, single_cls=False, augment=False, verbose=False, save_txt=False, save_hybrid=False, save_conf=False, save_json=False, project=runs/val, name=exp, exist_ok=False, half=False, dnn=False\n",
            "YOLOv5 🚀 v6.2-77-g4a37381 Python-3.7.14 torch-1.12.1+cu113 CUDA:0 (Tesla T4, 15110MiB)\n",
            "\n",
            "Fusing layers... \n",
            "Model summary: 367 layers, 46113663 parameters, 0 gradients\n",
            "\u001b[34m\u001b[1mtest: \u001b[0mScanning '/content/drive/MyDrive/YOLO/yolov5/data/Data/test.cache' images and labels... 392 found, 0 missing, 0 empty, 0 corrupt: 100% 392/392 [00:00<?, ?it/s]\n",
            "                 Class     Images  Instances          P          R     mAP@.5 mAP@.5:.95: 100% 392/392 [00:17<00:00, 21.96it/s]\n",
            "                   all        392       1807      0.717      0.611      0.666      0.255\n",
            "               no_mask        392        465      0.706      0.496      0.563      0.196\n",
            "                  mask        392       1342      0.729      0.726       0.77      0.313\n",
            "Speed: 0.2ms pre-process, 21.8ms inference, 0.9ms NMS per image at shape (1, 3, 640, 640)\n",
            "Results saved to \u001b[1mruns/val/exp19\u001b[0m\n"
          ]
        }
      ]
    },
    {
      "cell_type": "markdown",
      "source": [
        "### Weights from epoch 20"
      ],
      "metadata": {
        "id": "3pebkxR6gSHQ"
      }
    },
    {
      "cell_type": "code",
      "source": [
        "!python val.py --weights runs/train/exp6/weights/last.pt --data MOXA_FMD_colab.yaml --img 640 --task test --batch-size 1"
      ],
      "metadata": {
        "colab": {
          "base_uri": "https://localhost:8080/"
        },
        "id": "RGwd_llmEac2",
        "outputId": "cf9fb2f8-04c7-4ac0-dcb6-73dcd18240e6"
      },
      "execution_count": null,
      "outputs": [
        {
          "output_type": "stream",
          "name": "stdout",
          "text": [
            "\u001b[34m\u001b[1mval: \u001b[0mdata=/content/drive/MyDrive/YOLO/yolov5/data/MOXA_FMD_colab.yaml, weights=['runs/train/exp6/weights/last.pt'], batch_size=1, imgsz=640, conf_thres=0.001, iou_thres=0.6, task=test, device=, workers=8, single_cls=False, augment=False, verbose=False, save_txt=False, save_hybrid=False, save_conf=False, save_json=False, project=runs/val, name=exp, exist_ok=False, half=False, dnn=False\n",
            "YOLOv5 🚀 v6.2-77-g4a37381 Python-3.7.14 torch-1.12.1+cu113 CUDA:0 (Tesla T4, 15110MiB)\n",
            "\n",
            "Fusing layers... \n",
            "Model summary: 367 layers, 46113663 parameters, 0 gradients\n",
            "\u001b[34m\u001b[1mtest: \u001b[0mScanning '/content/drive/MyDrive/YOLO/yolov5/data/Data/test.cache' images and labels... 392 found, 0 missing, 0 empty, 0 corrupt: 100% 392/392 [00:00<?, ?it/s]\n",
            "                 Class     Images  Instances          P          R     mAP@.5 mAP@.5:.95: 100% 392/392 [00:17<00:00, 22.31it/s]\n",
            "                   all        392       1807      0.726      0.703      0.718      0.282\n",
            "               no_mask        392        465      0.677       0.63      0.646      0.219\n",
            "                  mask        392       1342      0.776      0.776      0.789      0.346\n",
            "Speed: 0.2ms pre-process, 22.0ms inference, 0.9ms NMS per image at shape (1, 3, 640, 640)\n",
            "Results saved to \u001b[1mruns/val/exp20\u001b[0m\n"
          ]
        }
      ]
    }
  ]
}