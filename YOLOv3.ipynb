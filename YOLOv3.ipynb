{
  "nbformat": 4,
  "nbformat_minor": 0,
  "metadata": {
    "colab": {
      "provenance": []
    },
    "kernelspec": {
      "name": "python3",
      "display_name": "Python 3"
    },
    "language_info": {
      "name": "python"
    },
    "accelerator": "GPU",
    "gpuClass": "standard"
  },
  "cells": [
    {
      "cell_type": "code",
      "execution_count": null,
      "metadata": {
        "colab": {
          "base_uri": "https://localhost:8080/"
        },
        "id": "jsWoqErtWyXL",
        "outputId": "98981acd-4980-4032-d074-b876ac3b57cb"
      },
      "outputs": [
        {
          "output_type": "stream",
          "name": "stdout",
          "text": [
            "/content/drive/MyDrive/YOLO\n"
          ]
        }
      ],
      "source": [
        "%cd drive/MyDrive/YOLO/"
      ]
    },
    {
      "cell_type": "code",
      "source": [
        "!git clone https://github.com/ultralytics/yolov3.git"
      ],
      "metadata": {
        "colab": {
          "base_uri": "https://localhost:8080/"
        },
        "id": "LegBj_6ZW3Fk",
        "outputId": "2b70f612-6704-407a-9bd3-ae32b9a64a05"
      },
      "execution_count": null,
      "outputs": [
        {
          "output_type": "stream",
          "name": "stdout",
          "text": [
            "Cloning into 'yolov3'...\n",
            "remote: Enumerating objects: 10034, done.\u001b[K\n",
            "remote: Counting objects: 100% (17/17), done.\u001b[K\n",
            "remote: Compressing objects: 100% (14/14), done.\u001b[K\n",
            "remote: Total 10034 (delta 4), reused 9 (delta 3), pack-reused 10017\u001b[K\n",
            "Receiving objects: 100% (10034/10034), 9.36 MiB | 8.96 MiB/s, done.\n",
            "Resolving deltas: 100% (6762/6762), done.\n"
          ]
        }
      ]
    },
    {
      "cell_type": "code",
      "source": [
        "%cd yolov3"
      ],
      "metadata": {
        "colab": {
          "base_uri": "https://localhost:8080/"
        },
        "id": "-NkE8VKTW3WZ",
        "outputId": "6ba0be8b-e896-4b0c-d225-8fe86ab0e63f"
      },
      "execution_count": null,
      "outputs": [
        {
          "output_type": "stream",
          "name": "stdout",
          "text": [
            "/content/drive/MyDrive/YOLO/yolov3\n"
          ]
        }
      ]
    },
    {
      "cell_type": "code",
      "source": [
        "!pip install -qr requirements.txt"
      ],
      "metadata": {
        "id": "iH_J7FafW3gb",
        "colab": {
          "base_uri": "https://localhost:8080/"
        },
        "outputId": "142fbfb9-0cc0-40ff-9bd3-e5451013d058"
      },
      "execution_count": null,
      "outputs": [
        {
          "output_type": "stream",
          "name": "stdout",
          "text": [
            "\u001b[K     |████████████████████████████████| 1.8 MB 10.6 MB/s \n",
            "\u001b[K     |████████████████████████████████| 158 kB 61.9 MB/s \n",
            "\u001b[K     |████████████████████████████████| 181 kB 70.8 MB/s \n",
            "\u001b[K     |████████████████████████████████| 63 kB 2.1 MB/s \n",
            "\u001b[K     |████████████████████████████████| 157 kB 71.9 MB/s \n",
            "\u001b[K     |████████████████████████████████| 157 kB 75.4 MB/s \n",
            "\u001b[K     |████████████████████████████████| 157 kB 75.9 MB/s \n",
            "\u001b[K     |████████████████████████████████| 157 kB 73.3 MB/s \n",
            "\u001b[K     |████████████████████████████████| 157 kB 76.2 MB/s \n",
            "\u001b[K     |████████████████████████████████| 157 kB 60.1 MB/s \n",
            "\u001b[K     |████████████████████████████████| 157 kB 76.7 MB/s \n",
            "\u001b[K     |████████████████████████████████| 156 kB 74.1 MB/s \n",
            "\u001b[?25h  Building wheel for pathtools (setup.py) ... \u001b[?25l\u001b[?25hdone\n"
          ]
        }
      ]
    },
    {
      "cell_type": "code",
      "source": [
        "import torch\n",
        "import utils\n",
        "display = utils.notebook_init()  # checks"
      ],
      "metadata": {
        "colab": {
          "base_uri": "https://localhost:8080/"
        },
        "id": "IzXQQ0xPW3pm",
        "outputId": "56913698-8e89-455d-fa74-1afc122e1cee"
      },
      "execution_count": null,
      "outputs": [
        {
          "output_type": "stream",
          "name": "stdout",
          "text": [
            "Setup complete ✅\n"
          ]
        }
      ]
    },
    {
      "cell_type": "code",
      "source": [
        "!pip install clearml"
      ],
      "metadata": {
        "id": "esaorGgeW38d"
      },
      "execution_count": null,
      "outputs": []
    },
    {
      "cell_type": "code",
      "source": [
        "!clearml-init"
      ],
      "metadata": {
        "id": "z7CsD49rW4Gs"
      },
      "execution_count": null,
      "outputs": []
    },
    {
      "cell_type": "markdown",
      "source": [
        "# Training"
      ],
      "metadata": {
        "id": "QCsvQo50ePJ7"
      }
    },
    {
      "cell_type": "markdown",
      "source": [
        "## Training using SGD optimizer"
      ],
      "metadata": {
        "id": "qK6vFV0geTG0"
      }
    },
    {
      "cell_type": "code",
      "source": [
        "!python train.py --img 640 --batch 16 --epochs 20 --data MOXA_FMD_colab.yaml --weights yolov3.pt --cache --save-period 5"
      ],
      "metadata": {
        "colab": {
          "base_uri": "https://localhost:8080/"
        },
        "id": "EFBETdyzGk1R",
        "outputId": "bab4c9bb-3c94-4180-baf2-1288442c4323"
      },
      "execution_count": null,
      "outputs": [
        {
          "output_type": "stream",
          "name": "stdout",
          "text": [
            "\u001b[34m\u001b[1mwandb\u001b[0m: (1) Create a W&B account\n",
            "\u001b[34m\u001b[1mwandb\u001b[0m: (2) Use an existing W&B account\n",
            "\u001b[34m\u001b[1mwandb\u001b[0m: (3) Don't visualize my results\n",
            "\u001b[34m\u001b[1mwandb\u001b[0m: Enter your choice: (30 second timeout) 3\n",
            "\u001b[34m\u001b[1mwandb\u001b[0m: You chose 'Don't visualize my results'\n",
            "\u001b[34m\u001b[1mtrain: \u001b[0mweights=yolov3.pt, cfg=, data=MOXA_FMD_colab.yaml, hyp=data/hyps/hyp.scratch.yaml, epochs=20, batch_size=16, imgsz=640, rect=False, resume=False, nosave=False, noval=False, noautoanchor=False, evolve=None, bucket=, cache=ram, image_weights=False, device=, multi_scale=False, single_cls=False, adam=False, sync_bn=False, workers=8, project=runs/train, name=exp, exist_ok=False, quad=False, linear_lr=False, label_smoothing=0.0, patience=100, freeze=0, save_period=5, local_rank=-1, entity=None, upload_dataset=False, bbox_interval=-1, artifact_alias=latest\n",
            "\u001b[34m\u001b[1mgithub: \u001b[0mup to date with https://github.com/ultralytics/yolov3 ✅\n",
            "YOLOv3 🚀 v9.6.0-22-g0bbd055 torch 1.12.1+cu113 CUDA:0 (Tesla T4, 15110MiB)\n",
            "\n",
            "\u001b[34m\u001b[1mhyperparameters: \u001b[0mlr0=0.01, lrf=0.1, momentum=0.937, weight_decay=0.0005, warmup_epochs=3.0, warmup_momentum=0.8, warmup_bias_lr=0.1, box=0.05, cls=0.5, cls_pw=1.0, obj=1.0, obj_pw=1.0, iou_t=0.2, anchor_t=4.0, fl_gamma=0.0, hsv_h=0.015, hsv_s=0.7, hsv_v=0.4, degrees=0.0, translate=0.1, scale=0.5, shear=0.0, perspective=0.0, flipud=0.0, fliplr=0.5, mosaic=1.0, mixup=0.0, copy_paste=0.0\n",
            "\u001b[34m\u001b[1mWeights & Biases: \u001b[0mrun 'pip install wandb' to automatically track and visualize YOLOv3 🚀 runs (RECOMMENDED)\n",
            "\u001b[34m\u001b[1mTensorBoard: \u001b[0mStart with 'tensorboard --logdir runs/train', view at http://localhost:6006/\n",
            "Overriding model.yaml nc=80 with nc=2\n",
            "\n",
            "                 from  n    params  module                                  arguments                     \n",
            "  0                -1  1       928  models.common.Conv                      [3, 32, 3, 1]                 \n",
            "  1                -1  1     18560  models.common.Conv                      [32, 64, 3, 2]                \n",
            "  2                -1  1     20672  models.common.Bottleneck                [64, 64]                      \n",
            "  3                -1  1     73984  models.common.Conv                      [64, 128, 3, 2]               \n",
            "  4                -1  2    164608  models.common.Bottleneck                [128, 128]                    \n",
            "  5                -1  1    295424  models.common.Conv                      [128, 256, 3, 2]              \n",
            "  6                -1  8   2627584  models.common.Bottleneck                [256, 256]                    \n",
            "  7                -1  1   1180672  models.common.Conv                      [256, 512, 3, 2]              \n",
            "  8                -1  8  10498048  models.common.Bottleneck                [512, 512]                    \n",
            "  9                -1  1   4720640  models.common.Conv                      [512, 1024, 3, 2]             \n",
            " 10                -1  4  20983808  models.common.Bottleneck                [1024, 1024]                  \n",
            " 11                -1  1   5245952  models.common.Bottleneck                [1024, 1024, False]           \n",
            " 12                -1  1    525312  models.common.Conv                      [1024, 512, 1, 1]             \n",
            " 13                -1  1   4720640  models.common.Conv                      [512, 1024, 3, 1]             \n",
            " 14                -1  1    525312  models.common.Conv                      [1024, 512, 1, 1]             \n",
            " 15                -1  1   4720640  models.common.Conv                      [512, 1024, 3, 1]             \n",
            " 16                -2  1    131584  models.common.Conv                      [512, 256, 1, 1]              \n",
            " 17                -1  1         0  torch.nn.modules.upsampling.Upsample    [None, 2, 'nearest']          \n",
            " 18           [-1, 8]  1         0  models.common.Concat                    [1]                           \n",
            " 19                -1  1   1377792  models.common.Bottleneck                [768, 512, False]             \n",
            " 20                -1  1   1312256  models.common.Bottleneck                [512, 512, False]             \n",
            " 21                -1  1    131584  models.common.Conv                      [512, 256, 1, 1]              \n",
            " 22                -1  1   1180672  models.common.Conv                      [256, 512, 3, 1]              \n",
            " 23                -2  1     33024  models.common.Conv                      [256, 128, 1, 1]              \n",
            " 24                -1  1         0  torch.nn.modules.upsampling.Upsample    [None, 2, 'nearest']          \n",
            " 25           [-1, 6]  1         0  models.common.Concat                    [1]                           \n",
            " 26                -1  1    344832  models.common.Bottleneck                [384, 256, False]             \n",
            " 27                -1  2    656896  models.common.Bottleneck                [256, 256, False]             \n",
            " 28      [27, 22, 15]  1     37695  models.yolo.Detect                      [2, [[10, 13, 16, 30, 33, 23], [30, 61, 62, 45, 59, 119], [116, 90, 156, 198, 373, 326]], [256, 512, 1024]]\n",
            "Model Summary: 333 layers, 61529119 parameters, 61529119 gradients, 155.3 GFLOPs\n",
            "\n",
            "Transferred 433/439 items from yolov3.pt\n",
            "Scaled weight_decay = 0.0005\n",
            "\u001b[34m\u001b[1moptimizer:\u001b[0m SGD with parameter groups 72 weight, 75 weight (no decay), 75 bias\n",
            "\u001b[34m\u001b[1malbumentations: \u001b[0mBlur(always_apply=False, p=0.01, blur_limit=(3, 7)), MedianBlur(always_apply=False, p=0.01, blur_limit=(3, 7)), ToGray(always_apply=False, p=0.01), CLAHE(always_apply=False, p=0.01, clip_limit=(1, 4.0), tile_grid_size=(8, 8))\n",
            "\u001b[34m\u001b[1mtrain: \u001b[0mScanning 'data/Data/train' images and labels...3136 found, 0 missing, 0 empty, 0 corrupted: 100% 3136/3136 [01:36<00:00, 32.64it/s] \n",
            "\u001b[34m\u001b[1mtrain: \u001b[0mNew cache created: data/Data/train.cache\n",
            "\u001b[34m\u001b[1mtrain: \u001b[0mCaching images (2.6GB ram): 100% 3136/3136 [00:26<00:00, 120.00it/s]\n",
            "\u001b[34m\u001b[1mval: \u001b[0mScanning 'data/Data/val' images and labels...392 found, 0 missing, 0 empty, 0 corrupted: 100% 392/392 [00:07<00:00, 55.11it/s] \n",
            "\u001b[34m\u001b[1mval: \u001b[0mNew cache created: data/Data/val.cache\n",
            "\u001b[34m\u001b[1mval: \u001b[0mCaching images (0.3GB ram): 100% 392/392 [00:04<00:00, 78.83it/s]\n",
            "Plotting labels to runs/train/exp7/labels.jpg... \n",
            "\n",
            "\u001b[34m\u001b[1mAutoAnchor: \u001b[0m5.61 anchors/target, 1.000 Best Possible Recall (BPR). Current anchors are a good fit to dataset ✅\n",
            "Image sizes 640 train, 640 val\n",
            "Using 2 dataloader workers\n",
            "Logging results to \u001b[1mruns/train/exp7\u001b[0m\n",
            "Starting training for 20 epochs...\n",
            "\n",
            "     Epoch   gpu_mem       box       obj       cls    labels  img_size\n",
            "      0/19     11.9G   0.08132   0.05764   0.02136       136       640: 100% 196/196 [02:52<00:00,  1.14it/s]\n",
            "               Class     Images     Labels          P          R     mAP@.5 mAP@.5:.95: 100% 13/13 [00:07<00:00,  1.76it/s]\n",
            "                 all        392       1540      0.178      0.486      0.217     0.0562\n",
            "\n",
            "     Epoch   gpu_mem       box       obj       cls    labels  img_size\n",
            "      1/19     10.5G   0.05993   0.04224   0.01636       175       640: 100% 196/196 [02:45<00:00,  1.19it/s]\n",
            "               Class     Images     Labels          P          R     mAP@.5 mAP@.5:.95: 100% 13/13 [00:05<00:00,  2.25it/s]\n",
            "                 all        392       1540        0.6      0.643      0.637      0.214\n",
            "\n",
            "     Epoch   gpu_mem       box       obj       cls    labels  img_size\n",
            "      2/19     10.5G   0.05451   0.04043  0.008624       127       640: 100% 196/196 [02:43<00:00,  1.20it/s]\n",
            "               Class     Images     Labels          P          R     mAP@.5 mAP@.5:.95: 100% 13/13 [00:05<00:00,  2.24it/s]\n",
            "                 all        392       1540      0.581      0.699      0.669      0.227\n",
            "\n",
            "     Epoch   gpu_mem       box       obj       cls    labels  img_size\n",
            "      3/19     10.5G   0.05057   0.03815  0.006649        89       640: 100% 196/196 [02:43<00:00,  1.20it/s]\n",
            "               Class     Images     Labels          P          R     mAP@.5 mAP@.5:.95: 100% 13/13 [00:05<00:00,  2.25it/s]\n",
            "                 all        392       1540      0.816       0.74      0.797      0.322\n",
            "\n",
            "     Epoch   gpu_mem       box       obj       cls    labels  img_size\n",
            "      4/19     10.5G   0.04891   0.03871  0.006093       133       640: 100% 196/196 [02:42<00:00,  1.21it/s]\n",
            "               Class     Images     Labels          P          R     mAP@.5 mAP@.5:.95: 100% 13/13 [00:05<00:00,  2.26it/s]\n",
            "                 all        392       1540      0.764      0.712      0.722      0.255\n",
            "\n",
            "     Epoch   gpu_mem       box       obj       cls    labels  img_size\n",
            "      5/19     10.5G   0.04523    0.0378  0.005348       139       640: 100% 196/196 [02:42<00:00,  1.21it/s]\n",
            "               Class     Images     Labels          P          R     mAP@.5 mAP@.5:.95: 100% 13/13 [00:05<00:00,  2.24it/s]\n",
            "                 all        392       1540      0.805      0.757        0.8      0.328\n",
            "\n",
            "     Epoch   gpu_mem       box       obj       cls    labels  img_size\n",
            "      6/19     10.5G   0.04305   0.03704  0.005063       161       640: 100% 196/196 [02:42<00:00,  1.20it/s]\n",
            "               Class     Images     Labels          P          R     mAP@.5 mAP@.5:.95: 100% 13/13 [00:05<00:00,  2.26it/s]\n",
            "                 all        392       1540      0.789      0.761      0.777      0.329\n",
            "\n",
            "     Epoch   gpu_mem       box       obj       cls    labels  img_size\n",
            "      7/19     10.5G   0.04122   0.03742  0.004413       114       640: 100% 196/196 [02:42<00:00,  1.21it/s]\n",
            "               Class     Images     Labels          P          R     mAP@.5 mAP@.5:.95: 100% 13/13 [00:05<00:00,  2.24it/s]\n",
            "                 all        392       1540      0.813      0.751      0.798      0.338\n",
            "\n",
            "     Epoch   gpu_mem       box       obj       cls    labels  img_size\n",
            "      8/19     10.5G   0.04026   0.03634   0.00389        76       640: 100% 196/196 [02:42<00:00,  1.20it/s]\n",
            "               Class     Images     Labels          P          R     mAP@.5 mAP@.5:.95: 100% 13/13 [00:05<00:00,  2.26it/s]\n",
            "                 all        392       1540      0.819      0.775      0.813      0.349\n",
            "\n",
            "     Epoch   gpu_mem       box       obj       cls    labels  img_size\n",
            "      9/19     10.5G   0.03908   0.03609  0.003621       123       640: 100% 196/196 [02:42<00:00,  1.21it/s]\n",
            "               Class     Images     Labels          P          R     mAP@.5 mAP@.5:.95: 100% 13/13 [00:05<00:00,  2.26it/s]\n",
            "                 all        392       1540      0.823      0.771      0.808      0.365\n",
            "\n",
            "     Epoch   gpu_mem       box       obj       cls    labels  img_size\n",
            "     10/19     10.5G   0.03805   0.03571  0.003283       115       640: 100% 196/196 [02:42<00:00,  1.20it/s]\n",
            "               Class     Images     Labels          P          R     mAP@.5 mAP@.5:.95: 100% 13/13 [00:05<00:00,  2.25it/s]\n",
            "                 all        392       1540      0.866       0.77      0.836      0.373\n",
            "\n",
            "     Epoch   gpu_mem       box       obj       cls    labels  img_size\n",
            "     11/19     10.5G    0.0371   0.03401  0.002959       124       640: 100% 196/196 [02:43<00:00,  1.20it/s]\n",
            "               Class     Images     Labels          P          R     mAP@.5 mAP@.5:.95: 100% 13/13 [00:05<00:00,  2.26it/s]\n",
            "                 all        392       1540      0.856      0.754      0.818      0.368\n",
            "\n",
            "     Epoch   gpu_mem       box       obj       cls    labels  img_size\n",
            "     12/19     10.5G   0.03601   0.03466  0.002816       130       640: 100% 196/196 [02:42<00:00,  1.20it/s]\n",
            "               Class     Images     Labels          P          R     mAP@.5 mAP@.5:.95: 100% 13/13 [00:05<00:00,  2.26it/s]\n",
            "                 all        392       1540       0.82      0.799       0.81      0.377\n",
            "\n",
            "     Epoch   gpu_mem       box       obj       cls    labels  img_size\n",
            "     13/19     10.5G   0.03505   0.03313   0.00262        94       640: 100% 196/196 [02:42<00:00,  1.20it/s]\n",
            "               Class     Images     Labels          P          R     mAP@.5 mAP@.5:.95: 100% 13/13 [00:05<00:00,  2.26it/s]\n",
            "                 all        392       1540      0.848      0.764      0.804      0.371\n",
            "\n",
            "     Epoch   gpu_mem       box       obj       cls    labels  img_size\n",
            "     14/19     10.5G    0.0347   0.03299  0.002363       122       640: 100% 196/196 [02:42<00:00,  1.21it/s]\n",
            "               Class     Images     Labels          P          R     mAP@.5 mAP@.5:.95: 100% 13/13 [00:05<00:00,  2.19it/s]\n",
            "                 all        392       1540      0.814      0.811      0.812      0.369\n",
            "\n",
            "     Epoch   gpu_mem       box       obj       cls    labels  img_size\n",
            "     15/19     10.5G   0.03364   0.03206  0.002046       104       640: 100% 196/196 [02:42<00:00,  1.21it/s]\n",
            "               Class     Images     Labels          P          R     mAP@.5 mAP@.5:.95: 100% 13/13 [00:05<00:00,  2.26it/s]\n",
            "                 all        392       1540      0.848      0.765      0.811       0.37\n",
            "\n",
            "     Epoch   gpu_mem       box       obj       cls    labels  img_size\n",
            "     16/19     10.5G   0.03323   0.03271  0.002076       119       640: 100% 196/196 [02:42<00:00,  1.20it/s]\n",
            "               Class     Images     Labels          P          R     mAP@.5 mAP@.5:.95: 100% 13/13 [00:05<00:00,  2.26it/s]\n",
            "                 all        392       1540      0.829      0.799      0.806       0.36\n",
            "\n",
            "     Epoch   gpu_mem       box       obj       cls    labels  img_size\n",
            "     17/19     10.5G   0.03223   0.03182  0.001872       111       640: 100% 196/196 [02:42<00:00,  1.20it/s]\n",
            "               Class     Images     Labels          P          R     mAP@.5 mAP@.5:.95: 100% 13/13 [00:05<00:00,  2.26it/s]\n",
            "                 all        392       1540      0.842      0.787      0.795      0.371\n",
            "\n",
            "     Epoch   gpu_mem       box       obj       cls    labels  img_size\n",
            "     18/19     10.5G   0.03184   0.03155  0.001752        60       640: 100% 196/196 [02:42<00:00,  1.21it/s]\n",
            "               Class     Images     Labels          P          R     mAP@.5 mAP@.5:.95: 100% 13/13 [00:05<00:00,  2.26it/s]\n",
            "                 all        392       1540      0.816      0.789      0.797      0.369\n",
            "\n",
            "     Epoch   gpu_mem       box       obj       cls    labels  img_size\n",
            "     19/19     10.5G   0.03149   0.03127   0.00163       117       640: 100% 196/196 [02:42<00:00,  1.20it/s]\n",
            "               Class     Images     Labels          P          R     mAP@.5 mAP@.5:.95: 100% 13/13 [00:05<00:00,  2.27it/s]\n",
            "                 all        392       1540       0.82      0.778      0.786      0.366\n",
            "\n",
            "20 epochs completed in 0.959 hours.\n",
            "Optimizer stripped from runs/train/exp7/weights/last.pt, 123.5MB\n",
            "Optimizer stripped from runs/train/exp7/weights/best.pt, 123.5MB\n",
            "\n",
            "Validating runs/train/exp7/weights/best.pt...\n",
            "Fusing layers... \n",
            "Model Summary: 261 layers, 61502815 parameters, 0 gradients, 154.6 GFLOPs\n",
            "               Class     Images     Labels          P          R     mAP@.5 mAP@.5:.95: 100% 13/13 [00:08<00:00,  1.57it/s]\n",
            "                 all        392       1540       0.82        0.8       0.81      0.378\n",
            "             no_mask        392        341      0.757      0.733      0.733       0.36\n",
            "                mask        392       1199      0.883      0.867      0.887      0.396\n",
            "Results saved to \u001b[1mruns/train/exp7\u001b[0m\n"
          ]
        }
      ]
    },
    {
      "cell_type": "markdown",
      "source": [
        "## Training using ADAM optimizer"
      ],
      "metadata": {
        "id": "377QpQdJeZ38"
      }
    },
    {
      "cell_type": "code",
      "source": [
        "!python train.py --img 640 --batch 16 --epochs 20 --data MOXA_FMD_colab.yaml --weights yolov3.pt --cache --save-period 5 --adam"
      ],
      "metadata": {
        "colab": {
          "base_uri": "https://localhost:8080/"
        },
        "id": "YuQAGudnGqkQ",
        "outputId": "f5a68bba-b65e-4def-a217-9a29b3e42d52"
      },
      "execution_count": null,
      "outputs": [
        {
          "output_type": "stream",
          "name": "stdout",
          "text": [
            "\u001b[34m\u001b[1mwandb\u001b[0m: (1) Create a W&B account\n",
            "\u001b[34m\u001b[1mwandb\u001b[0m: (2) Use an existing W&B account\n",
            "\u001b[34m\u001b[1mwandb\u001b[0m: (3) Don't visualize my results\n",
            "\u001b[34m\u001b[1mwandb\u001b[0m: Enter your choice: (30 second timeout) 3\n",
            "\u001b[34m\u001b[1mwandb\u001b[0m: You chose 'Don't visualize my results'\n",
            "\u001b[34m\u001b[1mtrain: \u001b[0mweights=yolov3.pt, cfg=, data=MOXA_FMD_colab.yaml, hyp=data/hyps/hyp.scratch.yaml, epochs=20, batch_size=16, imgsz=640, rect=False, resume=False, nosave=False, noval=False, noautoanchor=False, evolve=None, bucket=, cache=ram, image_weights=False, device=, multi_scale=False, single_cls=False, adam=True, sync_bn=False, workers=8, project=runs/train, name=exp, exist_ok=False, quad=False, linear_lr=False, label_smoothing=0.0, patience=100, freeze=0, save_period=5, local_rank=-1, entity=None, upload_dataset=False, bbox_interval=-1, artifact_alias=latest\n",
            "\u001b[34m\u001b[1mgithub: \u001b[0mup to date with https://github.com/ultralytics/yolov3 ✅\n",
            "YOLOv3 🚀 v9.6.0-22-g0bbd055 torch 1.12.1+cu113 CUDA:0 (Tesla T4, 15110MiB)\n",
            "\n",
            "\u001b[34m\u001b[1mhyperparameters: \u001b[0mlr0=0.01, lrf=0.1, momentum=0.937, weight_decay=0.0005, warmup_epochs=3.0, warmup_momentum=0.8, warmup_bias_lr=0.1, box=0.05, cls=0.5, cls_pw=1.0, obj=1.0, obj_pw=1.0, iou_t=0.2, anchor_t=4.0, fl_gamma=0.0, hsv_h=0.015, hsv_s=0.7, hsv_v=0.4, degrees=0.0, translate=0.1, scale=0.5, shear=0.0, perspective=0.0, flipud=0.0, fliplr=0.5, mosaic=1.0, mixup=0.0, copy_paste=0.0\n",
            "\u001b[34m\u001b[1mWeights & Biases: \u001b[0mrun 'pip install wandb' to automatically track and visualize YOLOv3 🚀 runs (RECOMMENDED)\n",
            "\u001b[34m\u001b[1mTensorBoard: \u001b[0mStart with 'tensorboard --logdir runs/train', view at http://localhost:6006/\n",
            "Overriding model.yaml nc=80 with nc=2\n",
            "\n",
            "                 from  n    params  module                                  arguments                     \n",
            "  0                -1  1       928  models.common.Conv                      [3, 32, 3, 1]                 \n",
            "  1                -1  1     18560  models.common.Conv                      [32, 64, 3, 2]                \n",
            "  2                -1  1     20672  models.common.Bottleneck                [64, 64]                      \n",
            "  3                -1  1     73984  models.common.Conv                      [64, 128, 3, 2]               \n",
            "  4                -1  2    164608  models.common.Bottleneck                [128, 128]                    \n",
            "  5                -1  1    295424  models.common.Conv                      [128, 256, 3, 2]              \n",
            "  6                -1  8   2627584  models.common.Bottleneck                [256, 256]                    \n",
            "  7                -1  1   1180672  models.common.Conv                      [256, 512, 3, 2]              \n",
            "  8                -1  8  10498048  models.common.Bottleneck                [512, 512]                    \n",
            "  9                -1  1   4720640  models.common.Conv                      [512, 1024, 3, 2]             \n",
            " 10                -1  4  20983808  models.common.Bottleneck                [1024, 1024]                  \n",
            " 11                -1  1   5245952  models.common.Bottleneck                [1024, 1024, False]           \n",
            " 12                -1  1    525312  models.common.Conv                      [1024, 512, 1, 1]             \n",
            " 13                -1  1   4720640  models.common.Conv                      [512, 1024, 3, 1]             \n",
            " 14                -1  1    525312  models.common.Conv                      [1024, 512, 1, 1]             \n",
            " 15                -1  1   4720640  models.common.Conv                      [512, 1024, 3, 1]             \n",
            " 16                -2  1    131584  models.common.Conv                      [512, 256, 1, 1]              \n",
            " 17                -1  1         0  torch.nn.modules.upsampling.Upsample    [None, 2, 'nearest']          \n",
            " 18           [-1, 8]  1         0  models.common.Concat                    [1]                           \n",
            " 19                -1  1   1377792  models.common.Bottleneck                [768, 512, False]             \n",
            " 20                -1  1   1312256  models.common.Bottleneck                [512, 512, False]             \n",
            " 21                -1  1    131584  models.common.Conv                      [512, 256, 1, 1]              \n",
            " 22                -1  1   1180672  models.common.Conv                      [256, 512, 3, 1]              \n",
            " 23                -2  1     33024  models.common.Conv                      [256, 128, 1, 1]              \n",
            " 24                -1  1         0  torch.nn.modules.upsampling.Upsample    [None, 2, 'nearest']          \n",
            " 25           [-1, 6]  1         0  models.common.Concat                    [1]                           \n",
            " 26                -1  1    344832  models.common.Bottleneck                [384, 256, False]             \n",
            " 27                -1  2    656896  models.common.Bottleneck                [256, 256, False]             \n",
            " 28      [27, 22, 15]  1     37695  models.yolo.Detect                      [2, [[10, 13, 16, 30, 33, 23], [30, 61, 62, 45, 59, 119], [116, 90, 156, 198, 373, 326]], [256, 512, 1024]]\n",
            "Model Summary: 333 layers, 61529119 parameters, 61529119 gradients, 155.3 GFLOPs\n",
            "\n",
            "Transferred 433/439 items from yolov3.pt\n",
            "Scaled weight_decay = 0.0005\n",
            "\u001b[34m\u001b[1moptimizer:\u001b[0m Adam with parameter groups 72 weight, 75 weight (no decay), 75 bias\n",
            "\u001b[34m\u001b[1malbumentations: \u001b[0mBlur(always_apply=False, p=0.01, blur_limit=(3, 7)), MedianBlur(always_apply=False, p=0.01, blur_limit=(3, 7)), ToGray(always_apply=False, p=0.01), CLAHE(always_apply=False, p=0.01, clip_limit=(1, 4.0), tile_grid_size=(8, 8))\n",
            "\u001b[34m\u001b[1mtrain: \u001b[0mScanning 'data/Data/train.cache' images and labels... 3136 found, 0 missing, 0 empty, 0 corrupted: 100% 3136/3136 [00:00<?, ?it/s]\n",
            "\u001b[34m\u001b[1mtrain: \u001b[0mCaching images (2.6GB ram): 100% 3136/3136 [00:32<00:00, 97.16it/s]\n",
            "\u001b[34m\u001b[1mval: \u001b[0mScanning 'data/Data/val.cache' images and labels... 392 found, 0 missing, 0 empty, 0 corrupted: 100% 392/392 [00:00<?, ?it/s]\n",
            "\u001b[34m\u001b[1mval: \u001b[0mCaching images (0.3GB ram): 100% 392/392 [00:06<00:00, 59.36it/s]\n",
            "Plotting labels to runs/train/exp8/labels.jpg... \n",
            "\n",
            "\u001b[34m\u001b[1mAutoAnchor: \u001b[0m5.61 anchors/target, 1.000 Best Possible Recall (BPR). Current anchors are a good fit to dataset ✅\n",
            "Image sizes 640 train, 640 val\n",
            "Using 2 dataloader workers\n",
            "Logging results to \u001b[1mruns/train/exp8\u001b[0m\n",
            "Starting training for 20 epochs...\n",
            "\n",
            "     Epoch   gpu_mem       box       obj       cls    labels  img_size\n",
            "      0/19     11.9G   0.06231   0.04863   0.01886       136       640: 100% 196/196 [02:50<00:00,  1.15it/s]\n",
            "               Class     Images     Labels          P          R     mAP@.5 mAP@.5:.95: 100% 13/13 [00:06<00:00,  1.97it/s]\n",
            "                 all        392       1540      0.756      0.293      0.279      0.076\n",
            "\n",
            "     Epoch   gpu_mem       box       obj       cls    labels  img_size\n",
            "      1/19     10.8G   0.05737   0.04792   0.01263       175       640: 100% 196/196 [02:45<00:00,  1.19it/s]\n",
            "               Class     Images     Labels          P          R     mAP@.5 mAP@.5:.95: 100% 13/13 [00:05<00:00,  2.19it/s]\n",
            "                 all        392       1540      0.484      0.476      0.406      0.123\n",
            "\n",
            "     Epoch   gpu_mem       box       obj       cls    labels  img_size\n",
            "      2/19     10.8G   0.05639   0.04818  0.009882       127       640: 100% 196/196 [02:44<00:00,  1.19it/s]\n",
            "               Class     Images     Labels          P          R     mAP@.5 mAP@.5:.95: 100% 13/13 [00:05<00:00,  2.20it/s]\n",
            "                 all        392       1540      0.603      0.475      0.498      0.152\n",
            "\n",
            "     Epoch   gpu_mem       box       obj       cls    labels  img_size\n",
            "      3/19     10.8G   0.05521   0.04633  0.009156        89       640: 100% 196/196 [02:43<00:00,  1.20it/s]\n",
            "               Class     Images     Labels          P          R     mAP@.5 mAP@.5:.95: 100% 13/13 [00:05<00:00,  2.20it/s]\n",
            "                 all        392       1540      0.423      0.447      0.332      0.113\n",
            "\n",
            "     Epoch   gpu_mem       box       obj       cls    labels  img_size\n",
            "      4/19     10.8G   0.05447   0.04709  0.008673       133       640: 100% 196/196 [02:42<00:00,  1.21it/s]\n",
            "               Class     Images     Labels          P          R     mAP@.5 mAP@.5:.95: 100% 13/13 [00:05<00:00,  2.20it/s]\n",
            "                 all        392       1540      0.597       0.54      0.525      0.169\n",
            "\n",
            "     Epoch   gpu_mem       box       obj       cls    labels  img_size\n",
            "      5/19     10.8G    0.0533   0.04565  0.008048       139       640: 100% 196/196 [02:42<00:00,  1.20it/s]\n",
            "               Class     Images     Labels          P          R     mAP@.5 mAP@.5:.95: 100% 13/13 [00:05<00:00,  2.20it/s]\n",
            "                 all        392       1540      0.748      0.584      0.649      0.231\n",
            "\n",
            "     Epoch   gpu_mem       box       obj       cls    labels  img_size\n",
            "      6/19     10.8G   0.05213   0.04492   0.00786       161       640: 100% 196/196 [02:43<00:00,  1.20it/s]\n",
            "               Class     Images     Labels          P          R     mAP@.5 mAP@.5:.95: 100% 13/13 [00:05<00:00,  2.20it/s]\n",
            "                 all        392       1540      0.613      0.601      0.598      0.201\n",
            "\n",
            "     Epoch   gpu_mem       box       obj       cls    labels  img_size\n",
            "      7/19     10.8G   0.05104   0.04565  0.007767       114       640: 100% 196/196 [02:41<00:00,  1.21it/s]\n",
            "               Class     Images     Labels          P          R     mAP@.5 mAP@.5:.95: 100% 13/13 [00:06<00:00,  2.14it/s]\n",
            "                 all        392       1540      0.726      0.573      0.635      0.224\n",
            "\n",
            "     Epoch   gpu_mem       box       obj       cls    labels  img_size\n",
            "      8/19     10.8G   0.05093   0.04478  0.007126        76       640: 100% 196/196 [02:41<00:00,  1.21it/s]\n",
            "               Class     Images     Labels          P          R     mAP@.5 mAP@.5:.95: 100% 13/13 [00:05<00:00,  2.24it/s]\n",
            "                 all        392       1540      0.787      0.628       0.68      0.254\n",
            "\n",
            "     Epoch   gpu_mem       box       obj       cls    labels  img_size\n",
            "      9/19     10.8G   0.04992   0.04477  0.007299       123       640: 100% 196/196 [02:42<00:00,  1.21it/s]\n",
            "               Class     Images     Labels          P          R     mAP@.5 mAP@.5:.95: 100% 13/13 [00:05<00:00,  2.25it/s]\n",
            "                 all        392       1540      0.722      0.595      0.621      0.227\n",
            "\n",
            "     Epoch   gpu_mem       box       obj       cls    labels  img_size\n",
            "     10/19     10.8G   0.04887   0.04432  0.006468       115       640: 100% 196/196 [02:41<00:00,  1.21it/s]\n",
            "               Class     Images     Labels          P          R     mAP@.5 mAP@.5:.95: 100% 13/13 [00:05<00:00,  2.24it/s]\n",
            "                 all        392       1540      0.749      0.645       0.69      0.254\n",
            "\n",
            "     Epoch   gpu_mem       box       obj       cls    labels  img_size\n",
            "     11/19     10.8G   0.04871   0.04298  0.006604       124       640: 100% 196/196 [02:42<00:00,  1.21it/s]\n",
            "               Class     Images     Labels          P          R     mAP@.5 mAP@.5:.95: 100% 13/13 [00:06<00:00,  2.13it/s]\n",
            "                 all        392       1540      0.824      0.604      0.696      0.274\n",
            "\n",
            "     Epoch   gpu_mem       box       obj       cls    labels  img_size\n",
            "     12/19     10.8G   0.04758   0.04393  0.006225       130       640: 100% 196/196 [02:42<00:00,  1.21it/s]\n",
            "               Class     Images     Labels          P          R     mAP@.5 mAP@.5:.95: 100% 13/13 [00:05<00:00,  2.23it/s]\n",
            "                 all        392       1540      0.748       0.67      0.707      0.259\n",
            "\n",
            "     Epoch   gpu_mem       box       obj       cls    labels  img_size\n",
            "     13/19     10.8G   0.04651   0.04208  0.005998        94       640: 100% 196/196 [02:41<00:00,  1.21it/s]\n",
            "               Class     Images     Labels          P          R     mAP@.5 mAP@.5:.95: 100% 13/13 [00:05<00:00,  2.25it/s]\n",
            "                 all        392       1540      0.768      0.692      0.733      0.291\n",
            "\n",
            "     Epoch   gpu_mem       box       obj       cls    labels  img_size\n",
            "     14/19     10.8G   0.04568   0.04223  0.006057       122       640: 100% 196/196 [02:42<00:00,  1.20it/s]\n",
            "               Class     Images     Labels          P          R     mAP@.5 mAP@.5:.95: 100% 13/13 [00:05<00:00,  2.26it/s]\n",
            "                 all        392       1540       0.84      0.716      0.774      0.315\n",
            "\n",
            "     Epoch   gpu_mem       box       obj       cls    labels  img_size\n",
            "     15/19     10.8G   0.04475   0.04108  0.005551       104       640: 100% 196/196 [02:42<00:00,  1.21it/s]\n",
            "               Class     Images     Labels          P          R     mAP@.5 mAP@.5:.95: 100% 13/13 [00:05<00:00,  2.24it/s]\n",
            "                 all        392       1540      0.813      0.718      0.774       0.31\n",
            "\n",
            "     Epoch   gpu_mem       box       obj       cls    labels  img_size\n",
            "     16/19     10.8G   0.04438   0.04197  0.005561       119       640: 100% 196/196 [02:42<00:00,  1.21it/s]\n",
            "               Class     Images     Labels          P          R     mAP@.5 mAP@.5:.95: 100% 13/13 [00:05<00:00,  2.23it/s]\n",
            "                 all        392       1540      0.842      0.703      0.778      0.321\n",
            "\n",
            "     Epoch   gpu_mem       box       obj       cls    labels  img_size\n",
            "     17/19     10.8G   0.04349   0.04134  0.004964       111       640: 100% 196/196 [02:43<00:00,  1.20it/s]\n",
            "               Class     Images     Labels          P          R     mAP@.5 mAP@.5:.95: 100% 13/13 [00:05<00:00,  2.24it/s]\n",
            "                 all        392       1540      0.847      0.736      0.804      0.347\n",
            "\n",
            "     Epoch   gpu_mem       box       obj       cls    labels  img_size\n",
            "     18/19     10.8G   0.04284    0.0407  0.004918        60       640: 100% 196/196 [02:42<00:00,  1.21it/s]\n",
            "               Class     Images     Labels          P          R     mAP@.5 mAP@.5:.95: 100% 13/13 [00:05<00:00,  2.25it/s]\n",
            "                 all        392       1540      0.827      0.719      0.772       0.32\n",
            "\n",
            "     Epoch   gpu_mem       box       obj       cls    labels  img_size\n",
            "     19/19     10.8G   0.04228   0.04021  0.004467       117       640: 100% 196/196 [02:41<00:00,  1.21it/s]\n",
            "               Class     Images     Labels          P          R     mAP@.5 mAP@.5:.95: 100% 13/13 [00:05<00:00,  2.23it/s]\n",
            "                 all        392       1540      0.842      0.724      0.786      0.332\n",
            "\n",
            "20 epochs completed in 0.969 hours.\n",
            "Optimizer stripped from runs/train/exp8/weights/last.pt, 123.5MB\n",
            "Optimizer stripped from runs/train/exp8/weights/best.pt, 123.5MB\n",
            "\n",
            "Validating runs/train/exp8/weights/best.pt...\n",
            "Fusing layers... \n",
            "Model Summary: 261 layers, 61502815 parameters, 0 gradients, 154.6 GFLOPs\n",
            "               Class     Images     Labels          P          R     mAP@.5 mAP@.5:.95: 100% 13/13 [00:09<00:00,  1.39it/s]\n",
            "                 all        392       1540      0.848      0.736      0.804      0.347\n",
            "             no_mask        392        341       0.83      0.645      0.746      0.318\n",
            "                mask        392       1199      0.865      0.827      0.862      0.376\n",
            "Results saved to \u001b[1mruns/train/exp8\u001b[0m\n"
          ]
        }
      ]
    },
    {
      "cell_type": "markdown",
      "source": [
        "# Testing"
      ],
      "metadata": {
        "id": "fu2tHv13ejAz"
      }
    },
    {
      "cell_type": "markdown",
      "source": [
        "## Testing the model trained with SGD optimizer"
      ],
      "metadata": {
        "id": "1Hu8meLKCSGK"
      }
    },
    {
      "cell_type": "markdown",
      "source": [
        "### Weights from epoch 5"
      ],
      "metadata": {
        "id": "cJ6G6zWkewXS"
      }
    },
    {
      "cell_type": "code",
      "source": [
        "!python val.py --weights runs/train/exp7/weights/epoch5.pt --data MOXA_FMD_colab.yaml --img 640 --task test --batch-size 1"
      ],
      "metadata": {
        "colab": {
          "base_uri": "https://localhost:8080/"
        },
        "id": "JDtDB0tXGmSC",
        "outputId": "ae906f0b-2269-4ef2-d798-01d5754c77ac"
      },
      "execution_count": null,
      "outputs": [
        {
          "output_type": "stream",
          "name": "stdout",
          "text": [
            "Downloading https://ultralytics.com/assets/Arial.ttf to /root/.config/Ultralytics/Arial.ttf...\n",
            "\u001b[34m\u001b[1mval: \u001b[0mdata=/content/drive/MyDrive/YOLO/yolov3/data/MOXA_FMD_colab.yaml, weights=['runs/train/exp7/weights/epoch5.pt'], batch_size=1, imgsz=640, conf_thres=0.001, iou_thres=0.6, task=test, device=, single_cls=False, augment=False, verbose=False, save_txt=False, save_hybrid=False, save_conf=False, save_json=False, project=runs/val, name=exp, exist_ok=False, half=False, dnn=False\n",
            "\u001b[31m\u001b[1mrequirements:\u001b[0m wandb not found and is required by YOLOv3, attempting auto-update...\n",
            "Looking in indexes: https://pypi.org/simple, https://us-python.pkg.dev/colab-wheels/public/simple/\n",
            "Collecting wandb\n",
            "  Downloading wandb-0.13.3-py2.py3-none-any.whl (1.8 MB)\n",
            "Collecting setproctitle\n",
            "  Downloading setproctitle-1.3.2-cp37-cp37m-manylinux_2_5_x86_64.manylinux1_x86_64.manylinux_2_17_x86_64.manylinux2014_x86_64.whl (30 kB)\n",
            "Collecting docker-pycreds>=0.4.0\n",
            "  Downloading docker_pycreds-0.4.0-py2.py3-none-any.whl (9.0 kB)\n",
            "Collecting GitPython>=1.0.0\n",
            "  Downloading GitPython-3.1.27-py3-none-any.whl (181 kB)\n",
            "Requirement already satisfied: promise<3,>=2.0 in /usr/local/lib/python3.7/dist-packages (from wandb) (2.3)\n",
            "Requirement already satisfied: PyYAML in /usr/local/lib/python3.7/dist-packages (from wandb) (6.0)\n",
            "Collecting sentry-sdk>=1.0.0\n",
            "  Downloading sentry_sdk-1.9.8-py2.py3-none-any.whl (158 kB)\n",
            "Collecting pathtools\n",
            "  Downloading pathtools-0.1.2.tar.gz (11 kB)\n",
            "Requirement already satisfied: setuptools in /usr/local/lib/python3.7/dist-packages (from wandb) (57.4.0)\n",
            "Requirement already satisfied: protobuf<4.0dev,>=3.12.0 in /usr/local/lib/python3.7/dist-packages (from wandb) (3.17.3)\n",
            "Requirement already satisfied: psutil>=5.0.0 in /usr/local/lib/python3.7/dist-packages (from wandb) (5.4.8)\n",
            "Requirement already satisfied: six>=1.13.0 in /usr/local/lib/python3.7/dist-packages (from wandb) (1.15.0)\n",
            "Requirement already satisfied: Click!=8.0.0,>=7.0 in /usr/local/lib/python3.7/dist-packages (from wandb) (7.1.2)\n",
            "Requirement already satisfied: requests<3,>=2.0.0 in /usr/local/lib/python3.7/dist-packages (from wandb) (2.23.0)\n",
            "Collecting shortuuid>=0.5.0\n",
            "  Downloading shortuuid-1.0.9-py3-none-any.whl (9.4 kB)\n",
            "Requirement already satisfied: typing-extensions>=3.7.4.3 in /usr/local/lib/python3.7/dist-packages (from GitPython>=1.0.0->wandb) (4.1.1)\n",
            "Collecting gitdb<5,>=4.0.1\n",
            "  Downloading gitdb-4.0.9-py3-none-any.whl (63 kB)\n",
            "Collecting smmap<6,>=3.0.1\n",
            "  Downloading smmap-5.0.0-py3-none-any.whl (24 kB)\n",
            "Requirement already satisfied: chardet<4,>=3.0.2 in /usr/local/lib/python3.7/dist-packages (from requests<3,>=2.0.0->wandb) (3.0.4)\n",
            "Requirement already satisfied: urllib3!=1.25.0,!=1.25.1,<1.26,>=1.21.1 in /usr/local/lib/python3.7/dist-packages (from requests<3,>=2.0.0->wandb) (1.24.3)\n",
            "Requirement already satisfied: idna<3,>=2.5 in /usr/local/lib/python3.7/dist-packages (from requests<3,>=2.0.0->wandb) (2.10)\n",
            "Requirement already satisfied: certifi>=2017.4.17 in /usr/local/lib/python3.7/dist-packages (from requests<3,>=2.0.0->wandb) (2022.6.15)\n",
            "Collecting sentry-sdk>=1.0.0\n",
            "  Downloading sentry_sdk-1.9.7-py2.py3-none-any.whl (157 kB)\n",
            "  Downloading sentry_sdk-1.9.6-py2.py3-none-any.whl (157 kB)\n",
            "  Downloading sentry_sdk-1.9.5-py2.py3-none-any.whl (157 kB)\n",
            "  Downloading sentry_sdk-1.9.4-py2.py3-none-any.whl (157 kB)\n",
            "  Downloading sentry_sdk-1.9.3-py2.py3-none-any.whl (157 kB)\n",
            "  Downloading sentry_sdk-1.9.2-py2.py3-none-any.whl (157 kB)\n",
            "  Downloading sentry_sdk-1.9.1-py2.py3-none-any.whl (157 kB)\n",
            "  Downloading sentry_sdk-1.9.0-py2.py3-none-any.whl (156 kB)\n",
            "Building wheels for collected packages: pathtools\n",
            "  Building wheel for pathtools (setup.py): started\n",
            "  Building wheel for pathtools (setup.py): finished with status 'done'\n",
            "  Created wheel for pathtools: filename=pathtools-0.1.2-py3-none-any.whl size=8806 sha256=2860dc9a702c8271b00ec80fe02c1da33f13f8f5bfe9c64ca85a60ea2f7318ad\n",
            "  Stored in directory: /root/.cache/pip/wheels/3e/31/09/fa59cef12cdcfecc627b3d24273699f390e71828921b2cbba2\n",
            "Successfully built pathtools\n",
            "Installing collected packages: smmap, gitdb, shortuuid, setproctitle, sentry-sdk, pathtools, GitPython, docker-pycreds, wandb\n",
            "Successfully installed GitPython-3.1.27 docker-pycreds-0.4.0 gitdb-4.0.9 pathtools-0.1.2 sentry-sdk-1.9.0 setproctitle-1.3.2 shortuuid-1.0.9 smmap-5.0.0 wandb-0.13.3\n",
            "\n",
            "\u001b[31m\u001b[1mrequirements:\u001b[0m 1 package updated per /content/drive/MyDrive/YOLO/yolov3/requirements.txt\n",
            "\u001b[31m\u001b[1mrequirements:\u001b[0m ⚠️ \u001b[1mRestart runtime or rerun command for updates to take effect\u001b[0m\n",
            "\n",
            "YOLOv3 🚀 v9.6.0-22-g0bbd055 torch 1.12.1+cu113 CUDA:0 (Tesla T4, 15110MiB)\n",
            "\n",
            "Fusing layers... \n",
            "Model Summary: 261 layers, 61502815 parameters, 0 gradients\n",
            "\u001b[34m\u001b[1mtest: \u001b[0mScanning 'data/Data/test.cache' images and labels... 392 found, 0 missing, 0 empty, 0 corrupted: 100% 392/392 [00:00<?, ?it/s]\n",
            "               Class     Images     Labels          P          R     mAP@.5 mAP@.5:.95: 100% 392/392 [00:32<00:00, 12.23it/s]\n",
            "                 all        392       1807      0.741      0.675      0.704      0.261\n",
            "             no_mask        392        465      0.704      0.617      0.663      0.232\n",
            "                mask        392       1342      0.778      0.733      0.745      0.289\n",
            "Speed: 0.2ms pre-process, 29.1ms inference, 1.1ms NMS per image at shape (1, 3, 640, 640)\n",
            "Results saved to \u001b[1mruns/val/exp3\u001b[0m\n"
          ]
        }
      ]
    },
    {
      "cell_type": "markdown",
      "source": [
        "### Weights from epoch 10"
      ],
      "metadata": {
        "id": "y08zImwVe1VQ"
      }
    },
    {
      "cell_type": "code",
      "source": [
        "!python val.py --weights runs/train/exp7/weights/epoch10.pt --data MOXA_FMD_colab.yaml --img 640 --task test --batch-size 1"
      ],
      "metadata": {
        "colab": {
          "base_uri": "https://localhost:8080/"
        },
        "id": "cUVjRdUcBBkm",
        "outputId": "f1a5b1f2-79e5-4a2c-c503-c3e0d166ea30"
      },
      "execution_count": null,
      "outputs": [
        {
          "output_type": "stream",
          "name": "stdout",
          "text": [
            "\u001b[34m\u001b[1mval: \u001b[0mdata=/content/drive/MyDrive/YOLO/yolov3/data/MOXA_FMD_colab.yaml, weights=['runs/train/exp7/weights/epoch10.pt'], batch_size=1, imgsz=640, conf_thres=0.001, iou_thres=0.6, task=test, device=, single_cls=False, augment=False, verbose=False, save_txt=False, save_hybrid=False, save_conf=False, save_json=False, project=runs/val, name=exp, exist_ok=False, half=False, dnn=False\n",
            "YOLOv3 🚀 v9.6.0-22-g0bbd055 torch 1.12.1+cu113 CUDA:0 (Tesla T4, 15110MiB)\n",
            "\n",
            "Fusing layers... \n",
            "Model Summary: 261 layers, 61502815 parameters, 0 gradients\n",
            "\u001b[34m\u001b[1mtest: \u001b[0mScanning 'data/Data/test.cache' images and labels... 392 found, 0 missing, 0 empty, 0 corrupted: 100% 392/392 [00:00<?, ?it/s]\n",
            "               Class     Images     Labels          P          R     mAP@.5 mAP@.5:.95: 100% 392/392 [00:21<00:00, 18.60it/s]\n",
            "                 all        392       1807      0.762      0.718      0.725      0.289\n",
            "             no_mask        392        465       0.72      0.647      0.666      0.233\n",
            "                mask        392       1342      0.804      0.788      0.784      0.346\n",
            "Speed: 0.2ms pre-process, 29.1ms inference, 1.0ms NMS per image at shape (1, 3, 640, 640)\n",
            "Results saved to \u001b[1mruns/val/exp4\u001b[0m\n"
          ]
        }
      ]
    },
    {
      "cell_type": "markdown",
      "source": [
        "### Weights from epoch 15"
      ],
      "metadata": {
        "id": "MAqoFyO7e2cJ"
      }
    },
    {
      "cell_type": "code",
      "source": [
        "!python val.py --weights runs/train/exp7/weights/epoch15.pt --data MOXA_FMD_colab.yaml --img 640 --task test --batch-size 1"
      ],
      "metadata": {
        "colab": {
          "base_uri": "https://localhost:8080/"
        },
        "id": "mGrhRCeiBCRQ",
        "outputId": "a00a48a6-1bb4-4e03-e5c0-089477b05f56"
      },
      "execution_count": null,
      "outputs": [
        {
          "output_type": "stream",
          "name": "stdout",
          "text": [
            "\u001b[34m\u001b[1mval: \u001b[0mdata=/content/drive/MyDrive/YOLO/yolov3/data/MOXA_FMD_colab.yaml, weights=['runs/train/exp7/weights/epoch15.pt'], batch_size=1, imgsz=640, conf_thres=0.001, iou_thres=0.6, task=test, device=, single_cls=False, augment=False, verbose=False, save_txt=False, save_hybrid=False, save_conf=False, save_json=False, project=runs/val, name=exp, exist_ok=False, half=False, dnn=False\n",
            "YOLOv3 🚀 v9.6.0-22-g0bbd055 torch 1.12.1+cu113 CUDA:0 (Tesla T4, 15110MiB)\n",
            "\n",
            "Fusing layers... \n",
            "Model Summary: 261 layers, 61502815 parameters, 0 gradients\n",
            "\u001b[34m\u001b[1mtest: \u001b[0mScanning 'data/Data/test.cache' images and labels... 392 found, 0 missing, 0 empty, 0 corrupted: 100% 392/392 [00:00<?, ?it/s]\n",
            "               Class     Images     Labels          P          R     mAP@.5 mAP@.5:.95: 100% 392/392 [00:21<00:00, 18.50it/s]\n",
            "                 all        392       1807      0.745      0.669       0.69      0.281\n",
            "             no_mask        392        465      0.672        0.6      0.585       0.21\n",
            "                mask        392       1342      0.817      0.738      0.795      0.353\n",
            "Speed: 0.2ms pre-process, 29.5ms inference, 0.9ms NMS per image at shape (1, 3, 640, 640)\n",
            "Results saved to \u001b[1mruns/val/exp5\u001b[0m\n"
          ]
        }
      ]
    },
    {
      "cell_type": "markdown",
      "source": [
        "### Weights from epoch 20"
      ],
      "metadata": {
        "id": "1t8-4sEze4gx"
      }
    },
    {
      "cell_type": "code",
      "source": [
        "!python val.py --weights runs/train/exp7/weights/last.pt --data MOXA_FMD_colab.yaml --img 640 --task test --batch-size 1"
      ],
      "metadata": {
        "colab": {
          "base_uri": "https://localhost:8080/"
        },
        "id": "iCu5MwXbBCsO",
        "outputId": "2e878ef5-49e6-4554-a195-dabb1b248c64"
      },
      "execution_count": null,
      "outputs": [
        {
          "output_type": "stream",
          "name": "stdout",
          "text": [
            "\u001b[34m\u001b[1mval: \u001b[0mdata=/content/drive/MyDrive/YOLO/yolov3/data/MOXA_FMD_colab.yaml, weights=['runs/train/exp7/weights/last.pt'], batch_size=1, imgsz=640, conf_thres=0.001, iou_thres=0.6, task=test, device=, single_cls=False, augment=False, verbose=False, save_txt=False, save_hybrid=False, save_conf=False, save_json=False, project=runs/val, name=exp, exist_ok=False, half=False, dnn=False\n",
            "YOLOv3 🚀 v9.6.0-22-g0bbd055 torch 1.12.1+cu113 CUDA:0 (Tesla T4, 15110MiB)\n",
            "\n",
            "Fusing layers... \n",
            "Model Summary: 261 layers, 61502815 parameters, 0 gradients\n",
            "\u001b[34m\u001b[1mtest: \u001b[0mScanning 'data/Data/test.cache' images and labels... 392 found, 0 missing, 0 empty, 0 corrupted: 100% 392/392 [00:00<?, ?it/s]\n",
            "               Class     Images     Labels          P          R     mAP@.5 mAP@.5:.95: 100% 392/392 [00:21<00:00, 18.26it/s]\n",
            "                 all        392       1807      0.741      0.699      0.704      0.285\n",
            "             no_mask        392        465      0.674      0.619      0.628      0.223\n",
            "                mask        392       1342      0.808      0.779      0.781      0.347\n",
            "Speed: 0.2ms pre-process, 29.8ms inference, 0.9ms NMS per image at shape (1, 3, 640, 640)\n",
            "Results saved to \u001b[1mruns/val/exp6\u001b[0m\n"
          ]
        }
      ]
    },
    {
      "cell_type": "markdown",
      "source": [
        "## Testing the model trained with ADAM optimizer"
      ],
      "metadata": {
        "id": "ojvg0H8GCVfO"
      }
    },
    {
      "cell_type": "markdown",
      "source": [
        "### Weights from epoch 5"
      ],
      "metadata": {
        "id": "uH99lN8UfN-H"
      }
    },
    {
      "cell_type": "code",
      "source": [
        "!python val.py --weights runs/train/exp8/weights/epoch5.pt --data MOXA_FMD_colab.yaml --img 640 --task test --batch-size 1"
      ],
      "metadata": {
        "colab": {
          "base_uri": "https://localhost:8080/"
        },
        "id": "YgJCyYJsBDTE",
        "outputId": "b4689d67-151b-410b-f5a9-5d98b249bb8b"
      },
      "execution_count": null,
      "outputs": [
        {
          "output_type": "stream",
          "name": "stdout",
          "text": [
            "\u001b[34m\u001b[1mval: \u001b[0mdata=/content/drive/MyDrive/YOLO/yolov3/data/MOXA_FMD_colab.yaml, weights=['runs/train/exp8/weights/epoch5.pt'], batch_size=1, imgsz=640, conf_thres=0.001, iou_thres=0.6, task=test, device=, single_cls=False, augment=False, verbose=False, save_txt=False, save_hybrid=False, save_conf=False, save_json=False, project=runs/val, name=exp, exist_ok=False, half=False, dnn=False\n",
            "YOLOv3 🚀 v9.6.0-22-g0bbd055 torch 1.12.1+cu113 CUDA:0 (Tesla T4, 15110MiB)\n",
            "\n",
            "Fusing layers... \n",
            "Model Summary: 261 layers, 61502815 parameters, 0 gradients\n",
            "\u001b[34m\u001b[1mtest: \u001b[0mScanning 'data/Data/test.cache' images and labels... 392 found, 0 missing, 0 empty, 0 corrupted: 100% 392/392 [00:00<?, ?it/s]\n",
            "               Class     Images     Labels          P          R     mAP@.5 mAP@.5:.95: 100% 392/392 [00:21<00:00, 17.85it/s]\n",
            "                 all        392       1807      0.656      0.591      0.614      0.212\n",
            "             no_mask        392        465      0.677       0.46      0.512      0.159\n",
            "                mask        392       1342      0.635      0.721      0.717      0.266\n",
            "Speed: 0.2ms pre-process, 30.1ms inference, 1.2ms NMS per image at shape (1, 3, 640, 640)\n",
            "Results saved to \u001b[1mruns/val/exp7\u001b[0m\n"
          ]
        }
      ]
    },
    {
      "cell_type": "markdown",
      "source": [
        "### Weights from epoch 10"
      ],
      "metadata": {
        "id": "0R9wNijnfPOa"
      }
    },
    {
      "cell_type": "code",
      "source": [
        "!python val.py --weights runs/train/exp8/weights/epoch10.pt --data MOXA_FMD_colab.yaml --img 640 --task test --batch-size 1"
      ],
      "metadata": {
        "colab": {
          "base_uri": "https://localhost:8080/"
        },
        "id": "3OF_Rg8LBDx0",
        "outputId": "00a4d3be-19d1-4f21-a880-dc7d0bc57514"
      },
      "execution_count": null,
      "outputs": [
        {
          "output_type": "stream",
          "name": "stdout",
          "text": [
            "\u001b[34m\u001b[1mval: \u001b[0mdata=/content/drive/MyDrive/YOLO/yolov3/data/MOXA_FMD_colab.yaml, weights=['runs/train/exp8/weights/epoch10.pt'], batch_size=1, imgsz=640, conf_thres=0.001, iou_thres=0.6, task=test, device=, single_cls=False, augment=False, verbose=False, save_txt=False, save_hybrid=False, save_conf=False, save_json=False, project=runs/val, name=exp, exist_ok=False, half=False, dnn=False\n",
            "YOLOv3 🚀 v9.6.0-22-g0bbd055 torch 1.12.1+cu113 CUDA:0 (Tesla T4, 15110MiB)\n",
            "\n",
            "Fusing layers... \n",
            "Model Summary: 261 layers, 61502815 parameters, 0 gradients\n",
            "\u001b[34m\u001b[1mtest: \u001b[0mScanning 'data/Data/test.cache' images and labels... 392 found, 0 missing, 0 empty, 0 corrupted: 100% 392/392 [00:00<?, ?it/s]\n",
            "               Class     Images     Labels          P          R     mAP@.5 mAP@.5:.95: 100% 392/392 [00:21<00:00, 18.13it/s]\n",
            "                 all        392       1807      0.724      0.602      0.637       0.21\n",
            "             no_mask        392        465      0.721      0.469      0.567      0.176\n",
            "                mask        392       1342      0.727      0.736      0.707      0.245\n",
            "Speed: 0.2ms pre-process, 30.3ms inference, 1.1ms NMS per image at shape (1, 3, 640, 640)\n",
            "Results saved to \u001b[1mruns/val/exp8\u001b[0m\n"
          ]
        }
      ]
    },
    {
      "cell_type": "markdown",
      "source": [
        "### Weights from epoch 15"
      ],
      "metadata": {
        "id": "vYHzz91nfQca"
      }
    },
    {
      "cell_type": "code",
      "source": [
        "!python val.py --weights runs/train/exp8/weights/epoch15.pt --data MOXA_FMD_colab.yaml --img 640 --task test --batch-size 1"
      ],
      "metadata": {
        "colab": {
          "base_uri": "https://localhost:8080/"
        },
        "id": "DQoTV7kSBEd2",
        "outputId": "29bd4167-5044-4447-f9ba-f74df0a2f07a"
      },
      "execution_count": null,
      "outputs": [
        {
          "output_type": "stream",
          "name": "stdout",
          "text": [
            "\u001b[34m\u001b[1mval: \u001b[0mdata=/content/drive/MyDrive/YOLO/yolov3/data/MOXA_FMD_colab.yaml, weights=['runs/train/exp8/weights/epoch15.pt'], batch_size=1, imgsz=640, conf_thres=0.001, iou_thres=0.6, task=test, device=, single_cls=False, augment=False, verbose=False, save_txt=False, save_hybrid=False, save_conf=False, save_json=False, project=runs/val, name=exp, exist_ok=False, half=False, dnn=False\n",
            "YOLOv3 🚀 v9.6.0-22-g0bbd055 torch 1.12.1+cu113 CUDA:0 (Tesla T4, 15110MiB)\n",
            "\n",
            "Fusing layers... \n",
            "Model Summary: 261 layers, 61502815 parameters, 0 gradients\n",
            "\u001b[34m\u001b[1mtest: \u001b[0mScanning 'data/Data/test.cache' images and labels... 392 found, 0 missing, 0 empty, 0 corrupted: 100% 392/392 [00:00<?, ?it/s]\n",
            "               Class     Images     Labels          P          R     mAP@.5 mAP@.5:.95: 100% 392/392 [00:21<00:00, 18.03it/s]\n",
            "                 all        392       1807      0.771      0.615      0.683      0.243\n",
            "             no_mask        392        465       0.73      0.524       0.59      0.179\n",
            "                mask        392       1342      0.812      0.707      0.775      0.308\n",
            "Speed: 0.2ms pre-process, 30.7ms inference, 1.1ms NMS per image at shape (1, 3, 640, 640)\n",
            "Results saved to \u001b[1mruns/val/exp9\u001b[0m\n"
          ]
        }
      ]
    },
    {
      "cell_type": "markdown",
      "source": [
        "### Weights from epoch 20"
      ],
      "metadata": {
        "id": "3Fa5xAzTfRju"
      }
    },
    {
      "cell_type": "code",
      "source": [
        "!python val.py --weights runs/train/exp8/weights/last.pt --data MOXA_FMD_colab.yaml --img 640 --task test --batch-size 1"
      ],
      "metadata": {
        "colab": {
          "base_uri": "https://localhost:8080/"
        },
        "id": "EK4doaR8BEyb",
        "outputId": "ded905eb-ad9c-4513-b900-84bfaf9e80de"
      },
      "execution_count": null,
      "outputs": [
        {
          "output_type": "stream",
          "name": "stdout",
          "text": [
            "\u001b[34m\u001b[1mval: \u001b[0mdata=/content/drive/MyDrive/YOLO/yolov3/data/MOXA_FMD_colab.yaml, weights=['runs/train/exp8/weights/last.pt'], batch_size=1, imgsz=640, conf_thres=0.001, iou_thres=0.6, task=test, device=, single_cls=False, augment=False, verbose=False, save_txt=False, save_hybrid=False, save_conf=False, save_json=False, project=runs/val, name=exp, exist_ok=False, half=False, dnn=False\n",
            "YOLOv3 🚀 v9.6.0-22-g0bbd055 torch 1.12.1+cu113 CUDA:0 (Tesla T4, 15110MiB)\n",
            "\n",
            "Fusing layers... \n",
            "Model Summary: 261 layers, 61502815 parameters, 0 gradients\n",
            "\u001b[34m\u001b[1mtest: \u001b[0mScanning 'data/Data/test.cache' images and labels... 392 found, 0 missing, 0 empty, 0 corrupted: 100% 392/392 [00:00<?, ?it/s]\n",
            "               Class     Images     Labels          P          R     mAP@.5 mAP@.5:.95: 100% 392/392 [00:22<00:00, 17.65it/s]\n",
            "                 all        392       1807      0.745      0.693       0.71      0.273\n",
            "             no_mask        392        465      0.721      0.613      0.647      0.222\n",
            "                mask        392       1342       0.77      0.773      0.774      0.324\n",
            "Speed: 0.2ms pre-process, 30.9ms inference, 1.1ms NMS per image at shape (1, 3, 640, 640)\n",
            "Results saved to \u001b[1mruns/val/exp10\u001b[0m\n"
          ]
        }
      ]
    }
  ]
}